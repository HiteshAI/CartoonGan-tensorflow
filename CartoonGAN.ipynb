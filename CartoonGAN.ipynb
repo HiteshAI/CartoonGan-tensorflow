{
  "nbformat": 4,
  "nbformat_minor": 0,
  "metadata": {
    "colab": {
      "name": "CartoonGAN.ipynb",
      "provenance": [],
      "authorship_tag": "ABX9TyOak9Pb+MP8RE/IdHBU/DaF",
      "include_colab_link": true
    },
    "kernelspec": {
      "name": "python3",
      "display_name": "Python 3"
    },
    "accelerator": "GPU"
  },
  "cells": [
    {
      "cell_type": "markdown",
      "metadata": {
        "id": "view-in-github",
        "colab_type": "text"
      },
      "source": [
        "<a href=\"https://colab.research.google.com/github/HiteshAI/CartoonGan-tensorflow/blob/master/CartoonGAN.ipynb\" target=\"_parent\"><img src=\"https://colab.research.google.com/assets/colab-badge.svg\" alt=\"Open In Colab\"/></a>"
      ]
    },
    {
      "cell_type": "code",
      "metadata": {
        "id": "xxgN9YDWd8ES",
        "colab_type": "code",
        "colab": {}
      },
      "source": [
        "!git clone https://github.com/mnicnc404/CartoonGan-tensorflow.git"
      ],
      "execution_count": 0,
      "outputs": []
    },
    {
      "cell_type": "code",
      "metadata": {
        "id": "NIdwU-73tldi",
        "colab_type": "code",
        "colab": {}
      },
      "source": [
        "%cd /content/CartoonGan-tensorflow/"
      ],
      "execution_count": 0,
      "outputs": []
    },
    {
      "cell_type": "code",
      "metadata": {
        "id": "bW9D6trWpnmx",
        "colab_type": "code",
        "colab": {}
      },
      "source": [
        "!git clone https://www.github.com/keras-team/keras-contrib.git \\\n",
        "    && cd keras-contrib \\\n",
        "    && python convert_to_tf_keras.py \\\n",
        "    && USE_TF_KERAS=1 python setup.py install"
      ],
      "execution_count": 0,
      "outputs": []
    },
    {
      "cell_type": "code",
      "metadata": {
        "id": "D0WtL7B8eROX",
        "colab_type": "code",
        "colab": {}
      },
      "source": [
        "\n",
        "!pip install tensorflow-gpu==2.0.0a0\n",
        "!pip install tqdm\n",
        "!pip install imageio\n",
        "!pip install tb-nightly==1.14.0a20190505\n",
        "\n",
        "\n",
        "# !pip install -r requirements_cpu.txt\n",
        "\n",
        "# !pip install tensorflow-gpu==2.0.0"
      ],
      "execution_count": 0,
      "outputs": []
    },
    {
      "cell_type": "code",
      "metadata": {
        "id": "H9sVIpDSexZl",
        "colab_type": "code",
        "colab": {}
      },
      "source": [
        "import tensorflow as tf\n",
        "tf.__version__"
      ],
      "execution_count": 0,
      "outputs": []
    },
    {
      "cell_type": "code",
      "metadata": {
        "id": "sYyaeRPnex1M",
        "colab_type": "code",
        "colab": {}
      },
      "source": [
        "from google.colab import drive\n",
        "drive.mount('/content/drive')"
      ],
      "execution_count": 0,
      "outputs": []
    },
    {
      "cell_type": "code",
      "metadata": {
        "id": "iRiQeATRfFQP",
        "colab_type": "code",
        "colab": {}
      },
      "source": [
        "!cp /content/drive/My\\ Drive/datasets.zip /content/CartoonGan-tensorflow/\n",
        "!unzip /content/CartoonGan-tensorflow/datasets.zip\n"
      ],
      "execution_count": 0,
      "outputs": []
    },
    {
      "cell_type": "code",
      "metadata": {
        "id": "dHLOcQjzJ_ac",
        "colab_type": "code",
        "colab": {}
      },
      "source": [
        "import numpy as np\n",
        "dir = '/content/CartoonGan-tensorflow/datasets/meena-cartoon/trainB'\n",
        "import os\n",
        "from os import walk\n",
        "from PIL import Image\n",
        "\n",
        "def get_img_absolute_path(imgs_path):\n",
        "  list = []\n",
        "  for dirpath, dirnames, filenames in walk(imgs_path):\n",
        "    for f in filenames:\n",
        "      abs_filepath = dirpath + '/' + f  \n",
        "      list.append(abs_filepath)\n",
        "  return list\n",
        "\n",
        "\n",
        "neutral = []\n",
        "\n",
        "def remove_corrupt_data(fullpath_image_list):\n",
        "  filter = fullpath_image_list\n",
        "  for i in range(len(fullpath_image_list)):\n",
        "      i += 1\n",
        "      \n",
        "      # img = Image.open(f'{i}b.jpg').convert('L')\n",
        "      for r in fullpath_image_list:\n",
        "        img_name = os.path.basename(r)\n",
        "        os.chdir(dir)\n",
        "        img = Image.open(img_name)\n",
        "        if not img:\n",
        "          print(fullpath_image_list.index(img_name))\n",
        "          filter.pop(result.index(img_name))\n",
        "          continue\n",
        "      return filter  \n",
        "\n",
        "def img_to_numpy_array(img, size):\n",
        "  img = Image.open(img).convert('L')\n",
        "  img = img.resize((size,size), Image.ANTIALIAS)\n",
        "  img2 = np.array(img).flatten() # vectorization\n",
        "  return img2    \n",
        "\n",
        "fullpath_image_list = get_img_absolute_path(dir)\n",
        "clean_data = remove_corrupt_data(fullpath_image_list)\n",
        "\n",
        "neutral = []\n",
        "for data in clean_data:\n",
        "  img2 = img_to_numpy_array(data, 256)\n",
        "  neutral.append(img2)\n",
        "  \n",
        "\n",
        "\n",
        "X = np.vstack(neutral)\n",
        "        \n",
        "\n",
        "# print(neutral)\n",
        "# X = np.asarray(neutral)\n",
        "y = np.ones((len(X),1))\n",
        "print(\"X ndim: \", X.ndim)\n",
        "print(\"X shape:\", X.shape)\n",
        "print(\"X size: \", X.size)\n",
        "\n",
        "print(\"y ndim: \", y.ndim)\n",
        "print(\"y shape:\", y.shape)\n",
        "print(\"y size: \", y.size)\n",
        "\n",
        "\n",
        "# print(filter)\n",
        "# result = get_img_absolute_path(dir)\n",
        "# print(result)\n",
        "# X= []\n",
        "# for result in result:\n",
        "#   X = np.fromfile(result, dtype=np.uint8).reshape((-1, 3, 96, 96))\n",
        "#   X.append(X)\n",
        "# X = np.asarray(X)\n"
      ],
      "execution_count": 0,
      "outputs": []
    },
    {
      "cell_type": "code",
      "metadata": {
        "id": "T8rehibcfAD4",
        "colab_type": "code",
        "colab": {}
      },
      "source": [
        "import numpy as np\n",
        "from matplotlib import pyplot as plt\n",
        "from PIL import Image\n",
        "import random\n",
        "\n",
        "def visualize_sample(X):\n",
        "    plt.imshow(X.reshape(256,256), interpolation='nearest')\n",
        "    # plt.imshow(X, interpolation='nearest')\n",
        "\n",
        "\n",
        "i = random.randint(0,X.shape[0]-1 )\n",
        "visualize_sample(X[i])"
      ],
      "execution_count": 0,
      "outputs": []
    },
    {
      "cell_type": "code",
      "metadata": {
        "id": "UbqgVZ5Y9sVw",
        "colab_type": "code",
        "colab": {}
      },
      "source": [
        "# !rm -r /content/CartoonGan-tensorflow/datasets/meena-cartoon/trainB_smooth/*"
      ],
      "execution_count": 0,
      "outputs": []
    },
    {
      "cell_type": "code",
      "metadata": {
        "id": "rNt9z-8j9dNf",
        "colab_type": "code",
        "colab": {}
      },
      "source": [
        "# !cp -r /content/CartoonGan-tensorflow/resized_images/*  /content/CartoonGan-tensorflow/datasets/meena-cartoon/trainB_smooth/"
      ],
      "execution_count": 0,
      "outputs": []
    },
    {
      "cell_type": "code",
      "metadata": {
        "id": "T6vPJtJ2ovmG",
        "colab_type": "code",
        "colab": {}
      },
      "source": [
        ""
      ],
      "execution_count": 0,
      "outputs": []
    },
    {
      "cell_type": "code",
      "metadata": {
        "id": "XureWbdOfOCz",
        "colab_type": "code",
        "colab": {}
      },
      "source": [
        "# !python /content/CartoonGan-tensorflow/scripts/smooth.py --path /content/CartoonGan-tensorflow/datasets/meena-cartoon\n"
      ],
      "execution_count": 0,
      "outputs": []
    },
    {
      "cell_type": "code",
      "metadata": {
        "id": "PMLqM76mhfEw",
        "colab_type": "code",
        "colab": {}
      },
      "source": [
        "# !zip -r /content/project.zip /content/CartoonGan-tensorflow"
      ],
      "execution_count": 0,
      "outputs": []
    },
    {
      "cell_type": "code",
      "metadata": {
        "id": "1JRPpwvNhdmx",
        "colab_type": "code",
        "colab": {}
      },
      "source": [
        "# %tensorboard --logdir logs"
      ],
      "execution_count": 0,
      "outputs": []
    },
    {
      "cell_type": "code",
      "metadata": {
        "id": "yTCF9wY4pCGr",
        "colab_type": "code",
        "colab": {}
      },
      "source": [
        "%cd /content/CartoonGan-tensorflow"
      ],
      "execution_count": 0,
      "outputs": []
    },
    {
      "cell_type": "code",
      "metadata": {
        "id": "T0N8n0K1uR9T",
        "colab_type": "code",
        "colab": {}
      },
      "source": [
        "!ls /content/CartoonGan-tensorflow/datasets/meena-cartoon/trainA"
      ],
      "execution_count": 0,
      "outputs": []
    },
    {
      "cell_type": "code",
      "metadata": {
        "id": "SksFNLrG4fW-",
        "colab_type": "code",
        "colab": {}
      },
      "source": [
        "!cp -r /content/CartoonGan-tensorflow/datasets/meena-cartoon /content/CartoonGan-tensorflow"
      ],
      "execution_count": 0,
      "outputs": []
    },
    {
      "cell_type": "code",
      "metadata": {
        "id": "XdTcSLzWerc7",
        "colab_type": "code",
        "colab": {
          "base_uri": "https://localhost:8080/",
          "height": 989
        },
        "outputId": "7d2bdefe-44d2-4589-e1c2-5d533f81189d"
      },
      "source": [
        "\n",
        "# !python train.py \\\n",
        "#     --batch_size 4 \\\n",
        "#     --pretrain_epochs 1 \\\n",
        "#     --content_lambda .4 \\\n",
        "#     --pretrain_learning_rate 2e-4 \\\n",
        "#     --g_adv_lambda 8. \\\n",
        "#     --generator_lr 8e-5 \\\n",
        "#     --discriminator_lr 3e-5 \\\n",
        "#     --style_lambda 25. \\\n",
        "#     --light \\\n",
        "#     --dataset_name {meena-cartoon}\n",
        "\n",
        "print(os.getcwd())\n",
        "!python train.py \\\n",
        "    --batch_size 4 \\\n",
        "    --pretrain_epochs 1 \\\n",
        "    --content_lambda .4 \\\n",
        "    --pretrain_learning_rate 1e-4 \\\n",
        "    --g_adv_lambda 8. \\\n",
        "    --generator_lr 4e-5 \\\n",
        "    --discriminator_lr 1.5e-5 \\\n",
        "    --style_lambda 25. \\\n",
        "    --light \\\n",
        "    --dataset_name {meena-cartoon}\n"
      ],
      "execution_count": 36,
      "outputs": [
        {
          "output_type": "stream",
          "text": [
            "/content/CartoonGan-tensorflow\n",
            "/usr/local/lib/python3.6/dist-packages/tensorflow/python/framework/dtypes.py:523: FutureWarning: Passing (type, 1) or '1type' as a synonym of type is deprecated; in a future version of numpy, it will be understood as (type, (1,)) / '(1,)type'.\n",
            "  _np_qint8 = np.dtype([(\"qint8\", np.int8, 1)])\n",
            "/usr/local/lib/python3.6/dist-packages/tensorflow/python/framework/dtypes.py:524: FutureWarning: Passing (type, 1) or '1type' as a synonym of type is deprecated; in a future version of numpy, it will be understood as (type, (1,)) / '(1,)type'.\n",
            "  _np_quint8 = np.dtype([(\"quint8\", np.uint8, 1)])\n",
            "/usr/local/lib/python3.6/dist-packages/tensorflow/python/framework/dtypes.py:525: FutureWarning: Passing (type, 1) or '1type' as a synonym of type is deprecated; in a future version of numpy, it will be understood as (type, (1,)) / '(1,)type'.\n",
            "  _np_qint16 = np.dtype([(\"qint16\", np.int16, 1)])\n",
            "/usr/local/lib/python3.6/dist-packages/tensorflow/python/framework/dtypes.py:526: FutureWarning: Passing (type, 1) or '1type' as a synonym of type is deprecated; in a future version of numpy, it will be understood as (type, (1,)) / '(1,)type'.\n",
            "  _np_quint16 = np.dtype([(\"quint16\", np.uint16, 1)])\n",
            "/usr/local/lib/python3.6/dist-packages/tensorflow/python/framework/dtypes.py:527: FutureWarning: Passing (type, 1) or '1type' as a synonym of type is deprecated; in a future version of numpy, it will be understood as (type, (1,)) / '(1,)type'.\n",
            "  _np_qint32 = np.dtype([(\"qint32\", np.int32, 1)])\n",
            "/usr/local/lib/python3.6/dist-packages/tensorflow/python/framework/dtypes.py:532: FutureWarning: Passing (type, 1) or '1type' as a synonym of type is deprecated; in a future version of numpy, it will be understood as (type, (1,)) / '(1,)type'.\n",
            "  np_resource = np.dtype([(\"resource\", np.ubyte, 1)])\n",
            "/usr/local/lib/python3.6/dist-packages/tensorboard/compat/tensorflow_stub/dtypes.py:541: FutureWarning: Passing (type, 1) or '1type' as a synonym of type is deprecated; in a future version of numpy, it will be understood as (type, (1,)) / '(1,)type'.\n",
            "  _np_qint8 = np.dtype([(\"qint8\", np.int8, 1)])\n",
            "/usr/local/lib/python3.6/dist-packages/tensorboard/compat/tensorflow_stub/dtypes.py:542: FutureWarning: Passing (type, 1) or '1type' as a synonym of type is deprecated; in a future version of numpy, it will be understood as (type, (1,)) / '(1,)type'.\n",
            "  _np_quint8 = np.dtype([(\"quint8\", np.uint8, 1)])\n",
            "/usr/local/lib/python3.6/dist-packages/tensorboard/compat/tensorflow_stub/dtypes.py:543: FutureWarning: Passing (type, 1) or '1type' as a synonym of type is deprecated; in a future version of numpy, it will be understood as (type, (1,)) / '(1,)type'.\n",
            "  _np_qint16 = np.dtype([(\"qint16\", np.int16, 1)])\n",
            "/usr/local/lib/python3.6/dist-packages/tensorboard/compat/tensorflow_stub/dtypes.py:544: FutureWarning: Passing (type, 1) or '1type' as a synonym of type is deprecated; in a future version of numpy, it will be understood as (type, (1,)) / '(1,)type'.\n",
            "  _np_quint16 = np.dtype([(\"quint16\", np.uint16, 1)])\n",
            "/usr/local/lib/python3.6/dist-packages/tensorboard/compat/tensorflow_stub/dtypes.py:545: FutureWarning: Passing (type, 1) or '1type' as a synonym of type is deprecated; in a future version of numpy, it will be understood as (type, (1,)) / '(1,)type'.\n",
            "  _np_qint32 = np.dtype([(\"qint32\", np.int32, 1)])\n",
            "/usr/local/lib/python3.6/dist-packages/tensorboard/compat/tensorflow_stub/dtypes.py:550: FutureWarning: Passing (type, 1) or '1type' as a synonym of type is deprecated; in a future version of numpy, it will be understood as (type, (1,)) / '(1,)type'.\n",
            "  np_resource = np.dtype([(\"resource\", np.ubyte, 1)])\n",
            "A\n",
            "{meena-cartoon}\n",
            "datasets\n",
            "[2020-01-18 09:13:28] [Trainer] [INFO] Setting up VGG19 for computing content loss...\n",
            "[2020-01-18 09:13:29] [Trainer] [INFO] Setting up objective functions and metrics using lsgan...\n",
            "[2020-01-18 09:13:29] [Trainer] [INFO] Setting up checkpoint paths...\n",
            "[2020-01-18 09:13:29] [Trainer] [INFO] Starting to pretrain generator with 1 epochs...\n",
            "[2020-01-18 09:13:29] [Trainer] [INFO] Building `{meena-cartoon}` dataset with domain `A`...\n",
            "{meena-cartoon}\n",
            "A\n",
            "[]\n",
            "[2020-01-18 09:13:29] [Trainer] [INFO] Found 0 domainA images in trainA folder.\n",
            "Traceback (most recent call last):\n",
            "  File \"train.py\", line 718, in <module>\n",
            "    main(**kwargs)\n",
            "  File \"train.py\", line 654, in main\n",
            "    t.pretrain_generator()\n",
            "  File \"train.py\", line 352, in pretrain_generator\n",
            "    batch_size=self.batch_size)\n",
            "  File \"train.py\", line 243, in get_dataset\n",
            "    ds = ds.apply(tf.data.experimental.shuffle_and_repeat(num_images))\n",
            "  File \"/usr/local/lib/python3.6/dist-packages/tensorflow/python/data/ops/dataset_ops.py\", line 1179, in apply\n",
            "    dataset = transformation_func(self)\n",
            "  File \"/usr/local/lib/python3.6/dist-packages/tensorflow/python/data/experimental/ops/shuffle_ops.py\", line 84, in _apply_fn\n",
            "    return _ShuffleAndRepeatDataset(dataset, buffer_size, count, seed)\n",
            "  File \"/usr/local/lib/python3.6/dist-packages/tensorflow/python/data/experimental/ops/shuffle_ops.py\", line 48, in __init__\n",
            "    **dataset_ops.flat_structure(self))\n",
            "  File \"/usr/local/lib/python3.6/dist-packages/tensorflow/python/ops/gen_dataset_ops.py\", line 4625, in shuffle_and_repeat_dataset\n",
            "    _six.raise_from(_core._status_to_exception(e.code, message), None)\n",
            "  File \"<string>\", line 3, in raise_from\n",
            "tensorflow.python.framework.errors_impl.InvalidArgumentError: buffer_size must be greater than zero. [Op:ShuffleAndRepeatDataset]\n"
          ],
          "name": "stdout"
        }
      ]
    },
    {
      "cell_type": "code",
      "metadata": {
        "id": "-jV_qMj2erJz",
        "colab_type": "code",
        "colab": {}
      },
      "source": [
        ""
      ],
      "execution_count": 0,
      "outputs": []
    }
  ]
}