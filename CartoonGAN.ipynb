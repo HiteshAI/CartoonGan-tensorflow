{
  "nbformat": 4,
  "nbformat_minor": 0,
  "metadata": {
    "colab": {
      "name": "CartoonGAN.ipynb",
      "provenance": [],
      "collapsed_sections": [],
      "toc_visible": true,
      "authorship_tag": "ABX9TyOIIO9vwVX4Bny1hkqzJ5Os",
      "include_colab_link": true
    },
    "kernelspec": {
      "name": "python3",
      "display_name": "Python 3"
    },
    "accelerator": "GPU"
  },
  "cells": [
    {
      "cell_type": "markdown",
      "metadata": {
        "id": "view-in-github",
        "colab_type": "text"
      },
      "source": [
        "<a href=\"https://colab.research.google.com/github/HiteshAI/CartoonGan-tensorflow/blob/master/CartoonGAN.ipynb\" target=\"_parent\"><img src=\"https://colab.research.google.com/assets/colab-badge.svg\" alt=\"Open In Colab\"/></a>"
      ]
    },
    {
      "cell_type": "code",
      "metadata": {
        "id": "xxgN9YDWd8ES",
        "colab_type": "code",
        "colab": {}
      },
      "source": [
        "!git clone https://github.com/mnicnc404/CartoonGan-tensorflow.git"
      ],
      "execution_count": 0,
      "outputs": []
    },
    {
      "cell_type": "code",
      "metadata": {
        "id": "NIdwU-73tldi",
        "colab_type": "code",
        "colab": {}
      },
      "source": [
        "%cd /content/CartoonGan-tensorflow/"
      ],
      "execution_count": 0,
      "outputs": []
    },
    {
      "cell_type": "code",
      "metadata": {
        "id": "bW9D6trWpnmx",
        "colab_type": "code",
        "colab": {}
      },
      "source": [
        "!git clone https://www.github.com/keras-team/keras-contrib.git \\\n",
        "    && cd keras-contrib \\\n",
        "    && python convert_to_tf_keras.py \\\n",
        "    && USE_TF_KERAS=1 python setup.py install"
      ],
      "execution_count": 0,
      "outputs": []
    },
    {
      "cell_type": "code",
      "metadata": {
        "id": "D0WtL7B8eROX",
        "colab_type": "code",
        "colab": {}
      },
      "source": [
        "\n",
        "!pip install tensorflow-gpu==2.0.0a0\n",
        "!pip install tqdm\n",
        "!pip install imageio\n",
        "!pip install tb-nightly==1.14.0a20190505\n",
        "\n",
        "\n",
        "# !pip install -r requirements_cpu.txt\n",
        "\n",
        "# !pip install tensorflow-gpu==2.0.0"
      ],
      "execution_count": 0,
      "outputs": []
    },
    {
      "cell_type": "code",
      "metadata": {
        "id": "H9sVIpDSexZl",
        "colab_type": "code",
        "colab": {}
      },
      "source": [
        "import tensorflow as tf\n",
        "tf.__version__"
      ],
      "execution_count": 0,
      "outputs": []
    },
    {
      "cell_type": "code",
      "metadata": {
        "id": "sYyaeRPnex1M",
        "colab_type": "code",
        "colab": {}
      },
      "source": [
        "from google.colab import drive\n",
        "drive.mount('/content/drive')"
      ],
      "execution_count": 0,
      "outputs": []
    },
    {
      "cell_type": "code",
      "metadata": {
        "id": "iRiQeATRfFQP",
        "colab_type": "code",
        "colab": {}
      },
      "source": [
        "# If you have downloaded my dataset, then keep dataset_name as it is. If you have uploaded your own dataset to gdrive then write its name in dataset_name.\n",
        "dataset_name = 'new_dataset_cartoon_meena_cleaned_again.zip'\n",
        "!cp /content/drive/My\\ Drive/{dataset_name} /content/CartoonGan-tensorflow/\n",
        "!unzip /content/CartoonGan-tensorflow/{dataset_name} \n"
      ],
      "execution_count": 0,
      "outputs": []
    },
    {
      "cell_type": "markdown",
      "metadata": {
        "id": "nTi7jjv3loGK",
        "colab_type": "text"
      },
      "source": [
        "# **Data Preprocessing**\n",
        "This is one of the critical steps before feeding your data to your AI model. We need to ensure that images are not broken, or aspects in your input data which is worth exploring in details. It helps to understand the problem."
      ]
    },
    {
      "cell_type": "code",
      "metadata": {
        "id": "dHLOcQjzJ_ac",
        "colab_type": "code",
        "colab": {
          "base_uri": "https://localhost:8080/",
          "height": 119
        },
        "outputId": "55d2ba5f-d24d-430c-af60-267434d339e7"
      },
      "source": [
        "import numpy as np\n",
        "dir = '/content/CartoonGan-tensorflow/datasets/meena_cartoon/trainB'\n",
        "import os\n",
        "from os import walk\n",
        "from PIL import Image\n",
        "\n",
        "def get_img_absolute_path(imgs_path):\n",
        "  list = []\n",
        "  for dirpath, dirnames, filenames in walk(imgs_path):\n",
        "    for f in filenames:\n",
        "      abs_filepath = dirpath + '/' + f  \n",
        "      list.append(abs_filepath)\n",
        "  return list\n",
        "\n",
        "\n",
        "neutral = []\n",
        "\n",
        "def remove_corrupt_data(fullpath_image_list):\n",
        "  filter = fullpath_image_list\n",
        "  for i in range(len(fullpath_image_list)):\n",
        "      i += 1\n",
        "      \n",
        "      # img = Image.open(f'{i}b.jpg').convert('L')\n",
        "      for r in fullpath_image_list:\n",
        "        img_name = os.path.basename(r)\n",
        "        os.chdir(dir)\n",
        "        img = Image.open(img_name)\n",
        "        if not img:\n",
        "          print(fullpath_image_list.index(img_name))\n",
        "          filter.pop(result.index(img_name))\n",
        "          continue\n",
        "      return filter  \n",
        "\n",
        "def img_to_numpy_array(img, size):\n",
        "  img = Image.open(img).convert('L')\n",
        "  img = img.resize((size,size), Image.ANTIALIAS)\n",
        "  img2 = np.array(img).flatten() # vectorization\n",
        "  return img2    \n",
        "\n",
        "fullpath_image_list = get_img_absolute_path(dir)\n",
        "clean_data = remove_corrupt_data(fullpath_image_list)\n",
        "\n",
        "neutral = []\n",
        "for data in clean_data:\n",
        "  img2 = img_to_numpy_array(data, 128)\n",
        "  neutral.append(img2)\n",
        "  \n",
        "X = np.vstack(neutral)\n",
        "        \n",
        "\n",
        "# print(neutral)\n",
        "# X = np.asarray(neutral)\n",
        "y = np.ones((len(X),1))\n",
        "print(\"X ndim: \", X.ndim)\n",
        "print(\"X shape:\", X.shape)\n",
        "print(\"X size: \", X.size)\n",
        "\n",
        "print(\"y ndim: \", y.ndim)\n",
        "print(\"y shape:\", y.shape)\n",
        "print(\"y size: \", y.size)\n"
      ],
      "execution_count": 14,
      "outputs": [
        {
          "output_type": "stream",
          "text": [
            "X ndim:  2\n",
            "X shape: (843, 16384)\n",
            "X size:  13811712\n",
            "y ndim:  2\n",
            "y shape: (843, 1)\n",
            "y size:  843\n"
          ],
          "name": "stdout"
        }
      ]
    },
    {
      "cell_type": "code",
      "metadata": {
        "id": "T8rehibcfAD4",
        "colab_type": "code",
        "colab": {
          "base_uri": "https://localhost:8080/",
          "height": 268
        },
        "outputId": "98b2b7b5-4c91-40fc-d3c5-516d4113cb71"
      },
      "source": [
        "import numpy as np\n",
        "from matplotlib import pyplot as plt\n",
        "from PIL import Image\n",
        "import random\n",
        "\n",
        "def visualize_sample(X):\n",
        "    plt.imshow(X.reshape(128,128), interpolation='nearest')\n",
        "    # plt.imshow(X, interpolation='nearest')\n",
        "\n",
        "\n",
        "i = random.randint(0,X.shape[0]-1 )\n",
        "visualize_sample(X[i])"
      ],
      "execution_count": 22,
      "outputs": [
        {
          "output_type": "display_data",
          "data": {
            "image/png": "[encoded data removed]",
            "text/plain": [
              "<Figure size 432x288 with 1 Axes>"
            ]
          },
          "metadata": {
            "tags": []
          }
        }
      ]
    },
    {
      "cell_type": "code",
      "metadata": {
        "id": "j-y4AR-wKTZm",
        "colab_type": "code",
        "colab": {
          "base_uri": "https://localhost:8080/",
          "height": 170
        },
        "outputId": "a4f38756-67a5-4a6c-b82e-a916df3cfe02"
      },
      "source": [
        "import os\n",
        "(os.chdir('/content/CartoonGan-tensorflow'))\n",
        "# !python /content/CartoonGan-tensorflow/scripts/smooth.py --path /content/CartoonGan-tensorflow/datasets/meena_cartoon\n"
      ],
      "execution_count": 23,
      "outputs": [
        {
          "output_type": "stream",
          "text": [
            "  0% 3/843 [00:03<15:42,  1.12s/it]\n",
            "Traceback (most recent call last):\n",
            "  File \"/content/CartoonGan-tensorflow/scripts/smooth.py\", line 57, in <module>\n",
            "    main(args.path)\n",
            "  File \"/content/CartoonGan-tensorflow/scripts/smooth.py\", line 49, in main\n",
            "    make_edge_smooth(path)\n",
            "  File \"/content/CartoonGan-tensorflow/scripts/smooth.py\", line 37, in make_edge_smooth\n",
            "    gauss))\n",
            "KeyboardInterrupt\n"
          ],
          "name": "stdout"
        }
      ]
    },
    {
      "cell_type": "code",
      "metadata": {
        "id": "XdTcSLzWerc7",
        "colab_type": "code",
        "colab": {
          "base_uri": "https://localhost:8080/",
          "height": 1000
        },
        "outputId": "a81ea7e2-469d-44e7-f715-58330b7d3558"
      },
      "source": [
        "\n",
        "# !python train.py \\\n",
        "#     --batch_size 4 \\\n",
        "#     --pretrain_epochs 1 \\\n",
        "#     --content_lambda .4 \\\n",
        "#     --pretrain_learning_rate 2e-4 \\\n",
        "#     --g_adv_lambda 8. \\\n",
        "#     --generator_lr 8e-5 \\\n",
        "#     --discriminator_lr 3e-5 \\\n",
        "#     --style_lambda 25. \\\n",
        "#     --light \\\n",
        "#     --dataset_name {meena-cartoon}\n",
        "# os.path.join()\n",
        "(os.chdir('/content/CartoonGan-tensorflow'))\n",
        "!python train.py \\\n",
        "    --batch_size 8 \\\n",
        "    --pretrain_epochs 1 \\\n",
        "    --content_lambda .4 \\\n",
        "    --pretrain_learning_rate 1e-4 \\\n",
        "    --g_adv_lambda 8. \\\n",
        "    --generator_lr 4e-5 \\\n",
        "    --discriminator_lr 1.5e-5 \\\n",
        "    --style_lambda 25. \\\n",
        "    --light \\\n",
        "    --dataset_name meena_cartoon \\\n",
        "    --disable_sampling \\\n",
        "    --sample_size 50\n",
        "\n",
        "\n",
        "#Full training\n",
        "# !python train.py \\\n",
        "#     --batch_size 8 \\\n",
        "#     --pretrain_epochs 1 \\\n",
        "#     --content_lambda .4 \\\n",
        "#     --pretrain_learning_rate 2e-4 \\\n",
        "#     --g_adv_lambda 8. \\\n",
        "#     --generator_lr 8e-5 \\\n",
        "#     --discriminator_lr 3e-5 \\\n",
        "#     --style_lambda 25. \\\n",
        "#     --light \\\n",
        "#     --dataset_name meena_cartoon    \n"
      ],
      "execution_count": 0,
      "outputs": [
        {
          "output_type": "stream",
          "text": [
            "/usr/local/lib/python3.6/dist-packages/tensorflow/python/framework/dtypes.py:523: FutureWarning: Passing (type, 1) or '1type' as a synonym of type is deprecated; in a future version of numpy, it will be understood as (type, (1,)) / '(1,)type'.\n",
            "  _np_qint8 = np.dtype([(\"qint8\", np.int8, 1)])\n",
            "/usr/local/lib/python3.6/dist-packages/tensorflow/python/framework/dtypes.py:524: FutureWarning: Passing (type, 1) or '1type' as a synonym of type is deprecated; in a future version of numpy, it will be understood as (type, (1,)) / '(1,)type'.\n",
            "  _np_quint8 = np.dtype([(\"quint8\", np.uint8, 1)])\n",
            "/usr/local/lib/python3.6/dist-packages/tensorflow/python/framework/dtypes.py:525: FutureWarning: Passing (type, 1) or '1type' as a synonym of type is deprecated; in a future version of numpy, it will be understood as (type, (1,)) / '(1,)type'.\n",
            "  _np_qint16 = np.dtype([(\"qint16\", np.int16, 1)])\n",
            "/usr/local/lib/python3.6/dist-packages/tensorflow/python/framework/dtypes.py:526: FutureWarning: Passing (type, 1) or '1type' as a synonym of type is deprecated; in a future version of numpy, it will be understood as (type, (1,)) / '(1,)type'.\n",
            "  _np_quint16 = np.dtype([(\"quint16\", np.uint16, 1)])\n",
            "/usr/local/lib/python3.6/dist-packages/tensorflow/python/framework/dtypes.py:527: FutureWarning: Passing (type, 1) or '1type' as a synonym of type is deprecated; in a future version of numpy, it will be understood as (type, (1,)) / '(1,)type'.\n",
            "  _np_qint32 = np.dtype([(\"qint32\", np.int32, 1)])\n",
            "/usr/local/lib/python3.6/dist-packages/tensorflow/python/framework/dtypes.py:532: FutureWarning: Passing (type, 1) or '1type' as a synonym of type is deprecated; in a future version of numpy, it will be understood as (type, (1,)) / '(1,)type'.\n",
            "  np_resource = np.dtype([(\"resource\", np.ubyte, 1)])\n",
            "/usr/local/lib/python3.6/dist-packages/tensorboard/compat/tensorflow_stub/dtypes.py:541: FutureWarning: Passing (type, 1) or '1type' as a synonym of type is deprecated; in a future version of numpy, it will be understood as (type, (1,)) / '(1,)type'.\n",
            "  _np_qint8 = np.dtype([(\"qint8\", np.int8, 1)])\n",
            "/usr/local/lib/python3.6/dist-packages/tensorboard/compat/tensorflow_stub/dtypes.py:542: FutureWarning: Passing (type, 1) or '1type' as a synonym of type is deprecated; in a future version of numpy, it will be understood as (type, (1,)) / '(1,)type'.\n",
            "  _np_quint8 = np.dtype([(\"quint8\", np.uint8, 1)])\n",
            "/usr/local/lib/python3.6/dist-packages/tensorboard/compat/tensorflow_stub/dtypes.py:543: FutureWarning: Passing (type, 1) or '1type' as a synonym of type is deprecated; in a future version of numpy, it will be understood as (type, (1,)) / '(1,)type'.\n",
            "  _np_qint16 = np.dtype([(\"qint16\", np.int16, 1)])\n",
            "/usr/local/lib/python3.6/dist-packages/tensorboard/compat/tensorflow_stub/dtypes.py:544: FutureWarning: Passing (type, 1) or '1type' as a synonym of type is deprecated; in a future version of numpy, it will be understood as (type, (1,)) / '(1,)type'.\n",
            "  _np_quint16 = np.dtype([(\"quint16\", np.uint16, 1)])\n",
            "/usr/local/lib/python3.6/dist-packages/tensorboard/compat/tensorflow_stub/dtypes.py:545: FutureWarning: Passing (type, 1) or '1type' as a synonym of type is deprecated; in a future version of numpy, it will be understood as (type, (1,)) / '(1,)type'.\n",
            "  _np_qint32 = np.dtype([(\"qint32\", np.int32, 1)])\n",
            "/usr/local/lib/python3.6/dist-packages/tensorboard/compat/tensorflow_stub/dtypes.py:550: FutureWarning: Passing (type, 1) or '1type' as a synonym of type is deprecated; in a future version of numpy, it will be understood as (type, (1,)) / '(1,)type'.\n",
            "  np_resource = np.dtype([(\"resource\", np.ubyte, 1)])\n",
            "[2020-01-18 19:53:46] [Trainer] [INFO] Setting up VGG19 for computing content loss...\n",
            "Downloading data from https://github.com/fchollet/deep-learning-models/releases/download/v0.1/vgg19_weights_tf_dim_ordering_tf_kernels_notop.h5\n",
            "80142336/80134624 [==============================] - 3s 0us/step\n",
            "[2020-01-18 19:53:51] [Trainer] [INFO] Setting up objective functions and metrics using lsgan...\n",
            "[2020-01-18 19:53:51] [Trainer] [INFO] Setting up checkpoint paths...\n",
            "[2020-01-18 19:53:51] [Trainer] [INFO] Starting to pretrain generator with 1 epochs...\n",
            "[2020-01-18 19:53:51] [Trainer] [INFO] Building `meena_cartoon` dataset with domain `A`...\n",
            "[2020-01-18 19:53:51] [Trainer] [INFO] Found 10603 domainA images in trainA folder.\n",
            "[2020-01-18 19:53:51] [Trainer] [INFO] Initializing generator with batch_size: 8, input_size: 256...\n",
            "Model: \"Generator\"\n",
            "_________________________________________________________________\n",
            "Layer (type)                 Output Shape              Param #   \n",
            "=================================================================\n",
            "FlatConv (FlatConv)          (8, 256, 256, 96)         7298      \n",
            "_________________________________________________________________\n",
            "DownShuffleUnitV2 (DownShuff (8, 128, 128, 192)        29384     \n",
            "_________________________________________________________________\n",
            "DownShuffleUnitV2 (DownShuff (8, 64, 64, 384)          114056    \n",
            "_________________________________________________________________\n",
            "sequential_15 (Sequential)   (8, 64, 64, 384)          603696    \n",
            "_________________________________________________________________\n",
            "UpSampleConv (UpSampleConv)  (8, 128, 128, 192)        93222     \n",
            "_________________________________________________________________\n",
            "UpSampleConv (UpSampleConv)  (8, 256, 256, 96)         23574     \n",
            "_________________________________________________________________\n",
            "sequential_20 (Sequential)   (8, 256, 256, 3)          7203      \n",
            "_________________________________________________________________\n",
            "activation (Activation)      (8, 256, 256, 3)          0         \n",
            "=================================================================\n",
            "Total params: 878,433\n",
            "Trainable params: 878,433\n",
            "Non-trainable params: 0\n",
            "_________________________________________________________________\n",
            "[2020-01-18 19:53:54] [Trainer] [INFO] Setting up optimizer to update generator's parameters...\n",
            "[2020-01-18 19:53:54] [Trainer] [INFO] Try restoring checkpoint: `training_checkpoints/pretrain/pretrain_generator`...\n",
            "[2020-01-18 19:53:54] [Trainer] [INFO] Checkpoint is not found, training from scratch with 1 epochs...\n",
            "[2020-01-18 19:53:54] [Trainer] [INFO] Proceeding pretraining without sample images...\n",
            "[2020-01-18 19:53:54] [Trainer] [INFO] Starting pre-training loop, setting up summary writer to record progress on TensorBoard...\n",
            "Pretrain Epoch 1/1:   0% 0/1326 [00:00<?, ?it/s]"
          ],
          "name": "stdout"
        }
      ]
    },
    {
      "cell_type": "code",
      "metadata": {
        "id": "-jV_qMj2erJz",
        "colab_type": "code",
        "colab": {}
      },
      "source": [
        "%reload_ext tensorboard\n",
        "%load_ext tensorboard\n",
        "%tensorboard --logdir runs"
      ],
      "execution_count": 0,
      "outputs": []
    },
    {
      "cell_type": "markdown",
      "metadata": {
        "id": "bc51DxvFEKIC",
        "colab_type": "text"
      },
      "source": [
        "# **Export your model**"
      ]
    },
    {
      "cell_type": "code",
      "metadata": {
        "id": "9xFPTaweEOZR",
        "colab_type": "code",
        "colab": {}
      },
      "source": [
        "!mkdir /content/CartoonGan-tensorflow/exported_models/light_meena_SavedModel \n",
        "out_dir = '/content/CartoonGan-tensorflow/exported_models/light_meena_SavedModel'\n",
        "m_path = '/content/CartoonGan-tensorflow/training_checkpoints'\n",
        "\n",
        "!python export.py \\\n",
        "    --m_path m_path \\\n",
        "    --out_dir out_dir \\\n",
        "    --light"
      ],
      "execution_count": 0,
      "outputs": []
    },
    {
      "cell_type": "code",
      "metadata": {
        "id": "Ufp7UHIeZ-Gw",
        "colab_type": "code",
        "colab": {}
      },
      "source": [
        "!zip -r /content/new_dataset_cartoon_meena_cleaned.zip /content/CartoonGan-tensorflow/datasets"
      ],
      "execution_count": 0,
      "outputs": []
    },
    {
      "cell_type": "code",
      "metadata": {
        "id": "1KUFF4Z4Z1_k",
        "colab_type": "code",
        "colab": {}
      },
      "source": [
        "import os\n",
        "os.chdir()\n",
        "from google.colab import files"
      ],
      "execution_count": 0,
      "outputs": []
    }
  ]
}