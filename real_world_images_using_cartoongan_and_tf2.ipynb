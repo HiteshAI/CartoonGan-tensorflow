{
  "nbformat": 4,
  "nbformat_minor": 0,
  "metadata": {
    "colab": {
      "name": "20190416_cartoonize_real_world_images_using_cartoongan_and_tf2.ipynb",
      "provenance": [],
      "collapsed_sections": [],
      "toc_visible": true,
      "include_colab_link": true
    },
    "kernelspec": {
      "name": "python3",
      "display_name": "Python 3"
    },
    "accelerator": "GPU"
  },
  "cells": [
    {
      "cell_type": "markdown",
      "metadata": {
        "id": "view-in-github",
        "colab_type": "text"
      },
      "source": [
        "<a href=\"https://colab.research.google.com/github/HiteshAI/CartoonGan-tensorflow/blob/master/real_world_images_using_cartoongan_and_tf2.ipynb\" target=\"_parent\"><img src=\"https://colab.research.google.com/assets/colab-badge.svg\" alt=\"Open In Colab\"/></a>"
      ]
    },
    {
      "cell_type": "markdown",
      "metadata": {
        "id": "NvYp8Wrpoi9M",
        "colab_type": "text"
      },
      "source": [
        "# CartoonGAN-TensorFlow2\n",
        "Cartoonize your images using CartoonGAN, powered by TensorFlow 2.0. \n",
        "\n",
        "- [Blog post](https://leemeng.tw/generate-anime-using-cartoongan-and-tensorflow2-en.html)\n",
        "- [Blog post (Traditional Chinese)](https://leemeng.tw/generate-anime-using-cartoongan-and-tensorflow2.html)\n",
        "- [Github repo](https://github.com/mnicnc404/CartoonGan-tensorflow)"
      ]
    },
    {
      "cell_type": "markdown",
      "metadata": {
        "id": "5XyIr6bDKWSC",
        "colab_type": "text"
      },
      "source": [
        "<img src=\"https://github.com/mnicnc404/CartoonGan-tensorflow/blob/master/images/cover.gif?raw=true\" height=\"300px\">"
      ]
    },
    {
      "cell_type": "markdown",
      "metadata": {
        "id": "zop2YJ9K5MK1",
        "colab_type": "text"
      },
      "source": [
        "## Clone github  repo\n",
        "This repo contain the Python script that we will use to generate cartoon-style images."
      ]
    },
    {
      "cell_type": "code",
      "metadata": {
        "id": "KVK0kiqcUEh8",
        "colab_type": "code",
        "colab": {
          "base_uri": "https://localhost:8080/",
          "height": 121
        },
        "outputId": "0583076b-0412-424c-cff9-422a855723d8"
      },
      "source": [
        "import os\n",
        "repo = \"CartoonGan-tensorflow\"\n",
        "!git clone https://github.com/HiteshAI/CartoonGan-tensorflow.git\n",
        "os.chdir(os.path.join(repo))"
      ],
      "execution_count": 1,
      "outputs": [
        {
          "output_type": "stream",
          "text": [
            "Cloning into 'CartoonGan-tensorflow'...\n",
            "remote: Enumerating objects: 1592, done.\u001b[K\n",
            "remote: Total 1592 (delta 0), reused 0 (delta 0), pack-reused 1592\u001b[K\n",
            "Receiving objects: 100% (1592/1592), 347.14 MiB | 37.62 MiB/s, done.\n",
            "Resolving deltas: 100% (692/692), done.\n",
            "Checking out files: 100% (426/426), done.\n"
          ],
          "name": "stdout"
        }
      ]
    },
    {
      "cell_type": "code",
      "metadata": {
        "id": "-ge2a_gj5DcV",
        "colab_type": "code",
        "colab": {
          "base_uri": "https://localhost:8080/",
          "height": 34
        },
        "outputId": "894edb41-c4d8-4427-9662-00b611b6bb63"
      },
      "source": [
        "!ls | grep cartoonize.py"
      ],
      "execution_count": 2,
      "outputs": [
        {
          "output_type": "stream",
          "text": [
            "cartoonize.py\n"
          ],
          "name": "stdout"
        }
      ]
    },
    {
      "cell_type": "markdown",
      "metadata": {
        "id": "vzyC4d477FJp",
        "colab_type": "text"
      },
      "source": [
        "## Install packages\n",
        "We will need TensorFlow 2.0 and [keras-contrib](https://github.com/keras-team/keras-contrib) packages."
      ]
    },
    {
      "cell_type": "code",
      "metadata": {
        "id": "AVV2vmOFcfIR",
        "colab_type": "code",
        "colab": {}
      },
      "source": [
        "from IPython.display import clear_output, display, Image"
      ],
      "execution_count": 0,
      "outputs": []
    },
    {
      "cell_type": "code",
      "metadata": {
        "id": "FmjWkxR0aoQX",
        "colab_type": "code",
        "colab": {}
      },
      "source": [
        "!pip install tensorflow-gpu==2.0.0-alpha0\n",
        "!git clone https://www.github.com/keras-team/keras-contrib.git \\\n",
        "    && cd keras-contrib \\\n",
        "    && python convert_to_tf_keras.py \\\n",
        "    && USE_TF_KERAS=1 python setup.py install\n",
        "clear_output()"
      ],
      "execution_count": 0,
      "outputs": []
    },
    {
      "cell_type": "code",
      "metadata": {
        "id": "vFi-unAm5E91",
        "colab_type": "code",
        "colab": {
          "base_uri": "https://localhost:8080/",
          "height": 471
        },
        "outputId": "21f0325d-d09e-45ef-c153-131470d7c299"
      },
      "source": [
        "import tensorflow as tf\n",
        "tf.__version__"
      ],
      "execution_count": 5,
      "outputs": [
        {
          "output_type": "stream",
          "text": [
            "/usr/local/lib/python3.6/dist-packages/tensorflow/python/framework/dtypes.py:523: FutureWarning: Passing (type, 1) or '1type' as a synonym of type is deprecated; in a future version of numpy, it will be understood as (type, (1,)) / '(1,)type'.\n",
            "  _np_qint8 = np.dtype([(\"qint8\", np.int8, 1)])\n",
            "/usr/local/lib/python3.6/dist-packages/tensorflow/python/framework/dtypes.py:524: FutureWarning: Passing (type, 1) or '1type' as a synonym of type is deprecated; in a future version of numpy, it will be understood as (type, (1,)) / '(1,)type'.\n",
            "  _np_quint8 = np.dtype([(\"quint8\", np.uint8, 1)])\n",
            "/usr/local/lib/python3.6/dist-packages/tensorflow/python/framework/dtypes.py:525: FutureWarning: Passing (type, 1) or '1type' as a synonym of type is deprecated; in a future version of numpy, it will be understood as (type, (1,)) / '(1,)type'.\n",
            "  _np_qint16 = np.dtype([(\"qint16\", np.int16, 1)])\n",
            "/usr/local/lib/python3.6/dist-packages/tensorflow/python/framework/dtypes.py:526: FutureWarning: Passing (type, 1) or '1type' as a synonym of type is deprecated; in a future version of numpy, it will be understood as (type, (1,)) / '(1,)type'.\n",
            "  _np_quint16 = np.dtype([(\"quint16\", np.uint16, 1)])\n",
            "/usr/local/lib/python3.6/dist-packages/tensorflow/python/framework/dtypes.py:527: FutureWarning: Passing (type, 1) or '1type' as a synonym of type is deprecated; in a future version of numpy, it will be understood as (type, (1,)) / '(1,)type'.\n",
            "  _np_qint32 = np.dtype([(\"qint32\", np.int32, 1)])\n",
            "/usr/local/lib/python3.6/dist-packages/tensorflow/python/framework/dtypes.py:532: FutureWarning: Passing (type, 1) or '1type' as a synonym of type is deprecated; in a future version of numpy, it will be understood as (type, (1,)) / '(1,)type'.\n",
            "  np_resource = np.dtype([(\"resource\", np.ubyte, 1)])\n",
            "/usr/local/lib/python3.6/dist-packages/tensorboard/compat/tensorflow_stub/dtypes.py:541: FutureWarning: Passing (type, 1) or '1type' as a synonym of type is deprecated; in a future version of numpy, it will be understood as (type, (1,)) / '(1,)type'.\n",
            "  _np_qint8 = np.dtype([(\"qint8\", np.int8, 1)])\n",
            "/usr/local/lib/python3.6/dist-packages/tensorboard/compat/tensorflow_stub/dtypes.py:542: FutureWarning: Passing (type, 1) or '1type' as a synonym of type is deprecated; in a future version of numpy, it will be understood as (type, (1,)) / '(1,)type'.\n",
            "  _np_quint8 = np.dtype([(\"quint8\", np.uint8, 1)])\n",
            "/usr/local/lib/python3.6/dist-packages/tensorboard/compat/tensorflow_stub/dtypes.py:543: FutureWarning: Passing (type, 1) or '1type' as a synonym of type is deprecated; in a future version of numpy, it will be understood as (type, (1,)) / '(1,)type'.\n",
            "  _np_qint16 = np.dtype([(\"qint16\", np.int16, 1)])\n",
            "/usr/local/lib/python3.6/dist-packages/tensorboard/compat/tensorflow_stub/dtypes.py:544: FutureWarning: Passing (type, 1) or '1type' as a synonym of type is deprecated; in a future version of numpy, it will be understood as (type, (1,)) / '(1,)type'.\n",
            "  _np_quint16 = np.dtype([(\"quint16\", np.uint16, 1)])\n",
            "/usr/local/lib/python3.6/dist-packages/tensorboard/compat/tensorflow_stub/dtypes.py:545: FutureWarning: Passing (type, 1) or '1type' as a synonym of type is deprecated; in a future version of numpy, it will be understood as (type, (1,)) / '(1,)type'.\n",
            "  _np_qint32 = np.dtype([(\"qint32\", np.int32, 1)])\n",
            "/usr/local/lib/python3.6/dist-packages/tensorboard/compat/tensorflow_stub/dtypes.py:550: FutureWarning: Passing (type, 1) or '1type' as a synonym of type is deprecated; in a future version of numpy, it will be understood as (type, (1,)) / '(1,)type'.\n",
            "  np_resource = np.dtype([(\"resource\", np.ubyte, 1)])\n"
          ],
          "name": "stderr"
        },
        {
          "output_type": "execute_result",
          "data": {
            "text/plain": [
              "'2.0.0-alpha0'"
            ]
          },
          "metadata": {
            "tags": []
          },
          "execution_count": 5
        }
      ]
    },
    {
      "cell_type": "code",
      "metadata": {
        "id": "YJrUfpca7CtI",
        "colab_type": "code",
        "colab": {
          "base_uri": "https://localhost:8080/",
          "height": 1000
        },
        "outputId": "99a4b2a8-8937-4f6f-f097-1c811eb959c9"
      },
      "source": [
        "\n",
        "!unzip -d /content/CartoonGan-tensorflow/input_images /root/*.zip \n",
        "!cp -r /content/CartoonGan-tensorflow/input_images/nepal\\ prime\\ minister\\ single/* /content/CartoonGan-tensorflow/input_images\n",
        "!rm -r /content/CartoonGan-tensorflow/input_images/nepal\\ prime\\ minister\\ single/\n"
      ],
      "execution_count": 6,
      "outputs": [
        {
          "output_type": "stream",
          "text": [
            "Archive:  /root/nepal prime minister single.zip\n",
            "   creating: /content/CartoonGan-tensorflow/input_images/nepal prime minister single/\n",
            "  inflating: /content/CartoonGan-tensorflow/input_images/nepal prime minister single/1.1e73f3b3c0caf2ea8d7066d5a3471caa.png  \n",
            "  inflating: /content/CartoonGan-tensorflow/input_images/nepal prime minister single/2.24894297220_697a1e733f_k-1600x900.jpg  \n",
            "  inflating: /content/CartoonGan-tensorflow/input_images/nepal prime minister single/3.madhav-nepal-768x523.jpg  \n",
            "  inflating: /content/CartoonGan-tensorflow/input_images/nepal prime minister single/4.oli_and_prachanda.2e16d0ba.fill-650x500.jpg  \n",
            "  inflating: /content/CartoonGan-tensorflow/input_images/nepal prime minister single/6.Prachanda-Nepalese.jpg  \n",
            "  inflating: /content/CartoonGan-tensorflow/input_images/nepal prime minister single/7.PM_assures_not_to_let_Nepalese_territory_be_encroached4032.jpg  \n",
            "  inflating: /content/CartoonGan-tensorflow/input_images/nepal prime minister single/8.Prime%20minister%20KP%20Oli.jpg  \n",
            "  inflating: /content/CartoonGan-tensorflow/input_images/nepal prime minister single/11.prachanda-nepal-pm-1200.jpg  \n",
            "  inflating: /content/CartoonGan-tensorflow/input_images/nepal prime minister single/12.nepal-kme--621x414@LiveMint.jpg  \n",
            "  inflating: /content/CartoonGan-tensorflow/input_images/nepal prime minister single/13.nepal-pm-sushil-koirala-diagnosed-with-first-stage-lung-cancer.jpg  \n",
            "  inflating: /content/CartoonGan-tensorflow/input_images/nepal prime minister single/15.Prime%20Minister-Employment.jpg  \n",
            "  inflating: /content/CartoonGan-tensorflow/input_images/nepal prime minister single/16.Oli-Prachanda-1.2e16d0ba.fill-650x500.png  \n",
            "  inflating: /content/CartoonGan-tensorflow/input_images/nepal prime minister single/21.thediplomat-ap_18046464855673.jpg  \n",
            "  inflating: /content/CartoonGan-tensorflow/input_images/nepal prime minister single/22.Ghanashyam-Bhjushal_Sept8.jpg  \n",
            "  inflating: /content/CartoonGan-tensorflow/input_images/nepal prime minister single/23.madhav-nepal.jpg  \n",
            "  inflating: /content/CartoonGan-tensorflow/input_images/nepal prime minister single/24.Prachanda_2009.jpg  \n",
            "  inflating: /content/CartoonGan-tensorflow/input_images/nepal prime minister single/25.Prime-Minister-KP-Oli_20191229080407.jpg  \n",
            "  inflating: /content/CartoonGan-tensorflow/input_images/nepal prime minister single/26.225px-Surya_Bahadur_Thapa_2005-11-24.jpg  \n",
            "  inflating: /content/CartoonGan-tensorflow/input_images/nepal prime minister single/27.page-14-15a-1.jpg  \n",
            "  inflating: /content/CartoonGan-tensorflow/input_images/nepal prime minister single/28.DSC_0028.jpg  \n",
            "  inflating: /content/CartoonGan-tensorflow/input_images/nepal prime minister single/29.KP_SHARMA_OLIFrom_Naxalite_To_PM.2e16d0ba.fill-650x500.jpg  \n",
            "  inflating: /content/CartoonGan-tensorflow/input_images/nepal prime minister single/31.RK-Pokhara-DefenceMinisterPokharela.jpg  \n",
            "  inflating: /content/CartoonGan-tensorflow/input_images/nepal prime minister single/32.ConspiringagainstMCC_20200106145108.jpg  \n",
            "  inflating: /content/CartoonGan-tensorflow/input_images/nepal prime minister single/33.Screen-Shot-2018-07-10-at-21.49.47.jpg  \n",
            "  inflating: /content/CartoonGan-tensorflow/input_images/nepal prime minister single/34.220px-Mahendra_Bir_Bikram_Shah_Dev_1967.jpg  \n",
            "  inflating: /content/CartoonGan-tensorflow/input_images/nepal prime minister single/36.Faris-Hadad-Zervos.jpg  \n",
            "  inflating: /content/CartoonGan-tensorflow/input_images/nepal prime minister single/37.maxresdefault.jpg  \n",
            "  inflating: /content/CartoonGan-tensorflow/input_images/nepal prime minister single/38.Province%207%20chief%20minister%20bhatta.jpg  \n",
            "  inflating: /content/CartoonGan-tensorflow/input_images/nepal prime minister single/39.pm%20cup%20cricket.jpg  \n",
            "  inflating: /content/CartoonGan-tensorflow/input_images/nepal prime minister single/40.Gokul-Baskota_sarkar-prabakta.2e16d0ba.fill-650x500.jpg  \n",
            "  inflating: /content/CartoonGan-tensorflow/input_images/nepal prime minister single/41.latest_1574681310_1575892656.jpg  \n",
            "  inflating: /content/CartoonGan-tensorflow/input_images/nepal prime minister single/42.46956-adb-president-and-india-pm-modi-final.JPG  \n",
            "  inflating: /content/CartoonGan-tensorflow/input_images/nepal prime minister single/43.a9b144af857d3097d5ecebbe4a410177.jpg  \n",
            "  inflating: /content/CartoonGan-tensorflow/input_images/nepal prime minister single/44.Padma_Shamsher.2e16d0ba.fill-650x500.jpg  \n",
            "  inflating: /content/CartoonGan-tensorflow/input_images/nepal prime minister single/45.nepal-pm-at-a-business-meeting_cb17c1b2-39c1-11e8-bfda-ec16c1256850.jpg  \n",
            "  inflating: /content/CartoonGan-tensorflow/input_images/nepal prime minister single/46.Madhav_Kumar_Nepal_21.jpg  \n",
            "  inflating: /content/CartoonGan-tensorflow/input_images/nepal prime minister single/48.deuba.jpg  \n",
            "  inflating: /content/CartoonGan-tensorflow/input_images/nepal prime minister single/49.Prime-Minister-KP-Sharma-Oli.jpg  \n",
            "  inflating: /content/CartoonGan-tensorflow/input_images/nepal prime minister single/50.Pushpa-Kamal-Dahal.jpg  \n",
            "  inflating: /content/CartoonGan-tensorflow/input_images/nepal prime minister single/1.maxresdefault.jpg  \n",
            "  inflating: /content/CartoonGan-tensorflow/input_images/nepal prime minister single/2.cgtHJjv9ElC8.jpg  \n",
            "  inflating: /content/CartoonGan-tensorflow/input_images/nepal prime minister single/3.KP_Oli.png  \n",
            "  inflating: /content/CartoonGan-tensorflow/input_images/nepal prime minister single/4.KP-Oli-AP-photo.jpg  \n",
            "  inflating: /content/CartoonGan-tensorflow/input_images/nepal prime minister single/5.PM_Oli-e1570101048679.jpg  \n",
            "  inflating: /content/CartoonGan-tensorflow/input_images/nepal prime minister single/6.KP_Sharma_Oli.png  \n",
            "  inflating: /content/CartoonGan-tensorflow/input_images/nepal prime minister single/7.Prime%20minister%20KP%20Oli.jpg  \n",
            "  inflating: /content/CartoonGan-tensorflow/input_images/nepal prime minister single/8.KP-Oli-1-1.jpg  \n",
            "  inflating: /content/CartoonGan-tensorflow/input_images/nepal prime minister single/8.KP-Sharma-Oli.jpg  \n",
            "  inflating: /content/CartoonGan-tensorflow/input_images/nepal prime minister single/9.KP-Oli-1-1.jpg  \n",
            "  inflating: /content/CartoonGan-tensorflow/input_images/nepal prime minister single/9.RrZvsn_9_400x400.jpg  \n",
            "  inflating: /content/CartoonGan-tensorflow/input_images/nepal prime minister single/10.KP-Oli.jpg  \n",
            "  inflating: /content/CartoonGan-tensorflow/input_images/nepal prime minister single/10.RrZvsn_9_400x400.jpg  \n",
            "  inflating: /content/CartoonGan-tensorflow/input_images/nepal prime minister single/11.KP-Oli.jpg  \n",
            "  inflating: /content/CartoonGan-tensorflow/input_images/nepal prime minister single/11.KP-Sharma-Oli.png  \n",
            "  inflating: /content/CartoonGan-tensorflow/input_images/nepal prime minister single/12.KP-Sharma-Oli.png  \n",
            "  inflating: /content/CartoonGan-tensorflow/input_images/nepal prime minister single/12.Pm-Oli-1.jpg  \n",
            "  inflating: /content/CartoonGan-tensorflow/input_images/nepal prime minister single/13.Pm-Oli-1.jpg  \n",
            "  inflating: /content/CartoonGan-tensorflow/input_images/nepal prime minister single/13.Screen-Shot-2018-05-28-at-6.54.24-PM.png  \n",
            "  inflating: /content/CartoonGan-tensorflow/input_images/nepal prime minister single/14.QaQFi0eAyzPM-KP-OLI.jpg  \n",
            "  inflating: /content/CartoonGan-tensorflow/input_images/nepal prime minister single/14.Screen-Shot-2018-05-28-at-6.54.24-PM.png  \n",
            "  inflating: /content/CartoonGan-tensorflow/input_images/nepal prime minister single/15.4270355451ab48599515df6b3190c039_18.jpg  \n",
            "  inflating: /content/CartoonGan-tensorflow/input_images/nepal prime minister single/15.QaQFi0eAyzPM-KP-OLI.jpg  \n",
            "  inflating: /content/CartoonGan-tensorflow/input_images/nepal prime minister single/16.4270355451ab48599515df6b3190c039_18.jpg  \n",
            "  inflating: /content/CartoonGan-tensorflow/input_images/nepal prime minister single/16.kp-oli.jpg  \n",
            "  inflating: /content/CartoonGan-tensorflow/input_images/nepal prime minister single/17.250px-The_Prime_Minister_of_Nepal%2C_Shri_K.P._Sharma_Oli_calling_on_the_President%2C_Shri_Pranab_Mukherjee%2C_at_Rashtrapati_Bhavan%2C_in_New_Delhi_on_February_20%2C_2016.jpg  \n",
            "  inflating: /content/CartoonGan-tensorflow/input_images/nepal prime minister single/17.kp-oli.jpg  \n",
            "  inflating: /content/CartoonGan-tensorflow/input_images/nepal prime minister single/18.250px-The_Prime_Minister_of_Nepal%2C_Shri_K.P._Sharma_Oli_calling_on_the_President%2C_Shri_Pranab_Mukherjee%2C_at_Rashtrapati_Bhavan%2C_in_New_Delhi_on_February_20%2C_2016.jpg  \n",
            "  inflating: /content/CartoonGan-tensorflow/input_images/nepal prime minister single/18.rkOUKYAV_400x400.jpg  \n",
            "  inflating: /content/CartoonGan-tensorflow/input_images/nepal prime minister single/19.rkOUKYAV_400x400.jpg  \n",
            "  inflating: /content/CartoonGan-tensorflow/input_images/nepal prime minister single/20.kp-oli.jpg  \n"
          ],
          "name": "stdout"
        }
      ]
    },
    {
      "cell_type": "code",
      "metadata": {
        "id": "AKczAGmQ8pG9",
        "colab_type": "code",
        "colab": {
          "base_uri": "https://localhost:8080/",
          "height": 34
        },
        "outputId": "fe300d62-c44f-43b1-916e-0efab555d51e"
      },
      "source": [
        "!ls /root/\n"
      ],
      "execution_count": 7,
      "outputs": [
        {
          "output_type": "stream",
          "text": [
            "'nepal prime minister single.zip'\n"
          ],
          "name": "stdout"
        }
      ]
    },
    {
      "cell_type": "code",
      "metadata": {
        "id": "iSOCTX6A6wC_",
        "colab_type": "code",
        "colab": {
          "base_uri": "https://localhost:8080/",
          "height": 54
        },
        "outputId": "09bed71b-35f2-4a68-b054-b53f2265d734"
      },
      "source": [
        "input_image_dir = \"input_images\"\n",
        "output_image_dir = input_image_dir.replace(\"input_\", \"output_\")\n",
        "images_path = '/root/upload'\n",
        "input_image_dir = \"input_images\"\n",
        "image_string_concat = os.listdir(input_image_dir)\n",
        "\n",
        "print(image_string_concat)"
      ],
      "execution_count": 8,
      "outputs": [
        {
          "output_type": "stream",
          "text": [
            "['44.Padma_Shamsher.2e16d0ba.fill-650x500.jpg', '21.thediplomat-ap_18046464855673.jpg', '19.rkOUKYAV_400x400.jpg', '10.RrZvsn_9_400x400.jpg', 'temple.jpg', '12.KP-Sharma-Oli.png', '13.Pm-Oli-1.jpg', '34.220px-Mahendra_Bir_Bikram_Shah_Dev_1967.jpg', '9.RrZvsn_9_400x400.jpg', '4.KP-Oli-AP-photo.jpg', '12.Pm-Oli-1.jpg', '7.PM_assures_not_to_let_Nepalese_territory_be_encroached4032.jpg', '48.deuba.jpg', '50.Pushpa-Kamal-Dahal.jpg', '15.4270355451ab48599515df6b3190c039_18.jpg', '33.Screen-Shot-2018-07-10-at-21.49.47.jpg', '13.nepal-pm-sushil-koirala-diagnosed-with-first-stage-lung-cancer.jpg', '22.Ghanashyam-Bhjushal_Sept8.jpg', '23.madhav-nepal.jpg', '11.KP-Oli.jpg', '29.KP_SHARMA_OLIFrom_Naxalite_To_PM.2e16d0ba.fill-650x500.jpg', '14.QaQFi0eAyzPM-KP-OLI.jpg', '27.page-14-15a-1.jpg', '46.Madhav_Kumar_Nepal_21.jpg', '6.Prachanda-Nepalese.jpg', '14.Screen-Shot-2018-05-28-at-6.54.24-PM.png', '8.Prime%20minister%20KP%20Oli.jpg', '24.Prachanda_2009.jpg', '39.pm%20cup%20cricket.jpg', '5.PM_Oli-e1570101048679.jpg', '2.cgtHJjv9ElC8.jpg', '28.DSC_0028.jpg', '1.maxresdefault.jpg', '16.kp-oli.jpg', '17.kp-oli.jpg', '49.Prime-Minister-KP-Sharma-Oli.jpg', '32.ConspiringagainstMCC_20200106145108.jpg', '6.KP_Sharma_Oli.png', '17.250px-The_Prime_Minister_of_Nepal%2C_Shri_K.P._Sharma_Oli_calling_on_the_President%2C_Shri_Pranab_Mukherjee%2C_at_Rashtrapati_Bhavan%2C_in_New_Delhi_on_February_20%2C_2016.jpg', '16.4270355451ab48599515df6b3190c039_18.jpg', '3.KP_Oli.png', '25.Prime-Minister-KP-Oli_20191229080407.jpg', '36.Faris-Hadad-Zervos.jpg', '18.rkOUKYAV_400x400.jpg', '18.250px-The_Prime_Minister_of_Nepal%2C_Shri_K.P._Sharma_Oli_calling_on_the_President%2C_Shri_Pranab_Mukherjee%2C_at_Rashtrapati_Bhavan%2C_in_New_Delhi_on_February_20%2C_2016.jpg', '8.KP-Sharma-Oli.jpg', '11.prachanda-nepal-pm-1200.jpg', 'origami.jpg', '10.KP-Oli.jpg', '26.225px-Surya_Bahadur_Thapa_2005-11-24.jpg', '15.QaQFi0eAyzPM-KP-OLI.jpg', '40.Gokul-Baskota_sarkar-prabakta.2e16d0ba.fill-650x500.jpg', '41.latest_1574681310_1575892656.jpg', '45.nepal-pm-at-a-business-meeting_cb17c1b2-39c1-11e8-bfda-ec16c1256850.jpg', '12.nepal-kme--621x414@LiveMint.jpg', '37.maxresdefault.jpg', '15.Prime%20Minister-Employment.jpg', '7.Prime%20minister%20KP%20Oli.jpg', '9.KP-Oli-1-1.jpg', '8.KP-Oli-1-1.jpg', '20.kp-oli.jpg', '31.RK-Pokhara-DefenceMinisterPokharela.jpg', '43.a9b144af857d3097d5ecebbe4a410177.jpg', '2.24894297220_697a1e733f_k-1600x900.jpg', '3.madhav-nepal-768x523.jpg', '1.1e73f3b3c0caf2ea8d7066d5a3471caa.png', '38.Province%207%20chief%20minister%20bhatta.jpg', '4.oli_and_prachanda.2e16d0ba.fill-650x500.jpg', '11.KP-Sharma-Oli.png', '13.Screen-Shot-2018-05-28-at-6.54.24-PM.png', '42.46956-adb-president-and-india-pm-modi-final.JPG', '16.Oli-Prachanda-1.2e16d0ba.fill-650x500.png']\n"
          ],
          "name": "stdout"
        }
      ]
    },
    {
      "cell_type": "code",
      "metadata": {
        "colab_type": "code",
        "id": "hyquii-0DT74",
        "colab": {}
      },
      "source": [
        "input_image_dir = \"input_images\"\n",
        "output_image_dir = input_image_dir.replace(\"input_\", \"output_\")\n",
        "images_path = '/root/upload'\n",
        "input_image_dir = \"input_images\"\n",
        "image_string_concat = os.listdir(input_image_dir)\n",
        "\n",
        "\n",
        "import time\n",
        "for image_string_concat in image_string_concat:\n",
        "  img_filename = image_string_concat\n",
        "  name, ext = '.'.join(img_filename.split(\".\")[:-1]), img_filename.split(\".\")[-1]\n",
        "  new_name = '_'.join((name, str(int(time.time()))))\n",
        "  new_img_filename = image_string_concat\n",
        "  image_path = os.path.join(input_image_dir, new_img_filename)\n",
        "      \n",
        "  # if \".gif\" in new_img_filename:\n",
        "  png_path = new_img_filename \n",
        "  !cp {image_path} {png_path}\n",
        "\n",
        "  # display(Image(png_path))\n",
        "\n",
        "\n",
        "  !python cartoonize.py \\\n",
        "      --batch_size 10 \\\n",
        "      --all_styles \\\n",
        "      --comparison_view horizontal \\\n",
        "      --keep_original_size\n",
        "\n",
        "  if img_filename:\n",
        "      if \".gif\" in img_filename:\n",
        "          generated_gif = os.path.join(output_image_dir, \"comparison\", new_img_filename)\n",
        "          result_path = generated_gif + '.png'\n",
        "          !cp {generated_gif} {result_path}\n",
        "      else:\n",
        "          result_path = os.path.join(output_image_dir, \"comparison\", new_img_filename)\n",
        "  # display(Image(result_path))\n",
        "\n",
        "  from google.colab import files\n",
        "  styles = [\"shinkai\", \"hayao\", \"hosoda\", \"paprika\"]\n",
        "  for styles in styles:\n",
        "    output_image_path = os.path.join(output_image_dir, styles, new_img_filename)\n",
        "    files.download(output_image_path)\n",
        "\n",
        "\n"
      ],
      "execution_count": 0,
      "outputs": []
    },
    {
      "cell_type": "code",
      "metadata": {
        "id": "wDAwf9im6WdN",
        "colab_type": "code",
        "colab": {}
      },
      "source": [
        ""
      ],
      "execution_count": 0,
      "outputs": []
    },
    {
      "cell_type": "markdown",
      "metadata": {
        "id": "FrZ2PPFMn4kc",
        "colab_type": "text"
      },
      "source": [
        "Download the image from the web and save it for transformation. You don't need to know all the detail here now."
      ]
    },
    {
      "cell_type": "code",
      "metadata": {
        "id": "QG22Lmj7fCkT",
        "colab_type": "code",
        "colab": {}
      },
      "source": [
        "input_image_dir = \"input_images\"\n",
        "output_image_dir = input_image_dir.replace(\"input_\", \"output_\")\n",
        "image_string_concat = 'pranaya.jpg'\n",
        "\n",
        "import time\n",
        "img_filename = image_string_concat\n",
        "name, ext = '.'.join(img_filename.split(\".\")[:-1]), img_filename.split(\".\")[-1]\n",
        "new_name = '_'.join((name, str(int(time.time()))))\n",
        "new_img_filename = image_string_concat\n",
        "image_path = os.path.join(input_image_dir, new_img_filename)\n",
        "    \n",
        "# if \".gif\" in new_img_filename:\n",
        "png_path = new_img_filename \n",
        "!cp {image_path} {png_path}\n",
        "\n",
        "display(Image(png_path))"
      ],
      "execution_count": 0,
      "outputs": []
    },
    {
      "cell_type": "code",
      "metadata": {
        "id": "tMwfHOtMrMZ7",
        "colab_type": "code",
        "colab": {}
      },
      "source": [
        ""
      ],
      "execution_count": 0,
      "outputs": []
    },
    {
      "cell_type": "code",
      "metadata": {
        "id": "gXZDnavco7WL",
        "colab_type": "code",
        "colab": {}
      },
      "source": [
        "\n",
        "!python cartoonize.py \\\n",
        "    --batch_size 10 \\\n",
        "    --all_styles \\\n",
        "    --comparison_view horizontal \\\n",
        "    --keep_original_size\n",
        "\n",
        "if img_filename:\n",
        "    if \".gif\" in img_filename:\n",
        "        generated_gif = os.path.join(output_image_dir, \"comparison\", new_img_filename)\n",
        "        result_path = generated_gif + '.png'\n",
        "        !cp {generated_gif} {result_path}\n",
        "    else:\n",
        "        result_path = os.path.join(output_image_dir, \"comparison\", new_img_filename)\n",
        "display(Image(result_path))\n",
        "\n"
      ],
      "execution_count": 0,
      "outputs": []
    },
    {
      "cell_type": "markdown",
      "metadata": {
        "id": "SdyQoncIpod_",
        "colab_type": "text"
      },
      "source": [
        "## Download the result\n"
      ]
    },
    {
      "cell_type": "code",
      "metadata": {
        "id": "I3FBeu82pqNR",
        "colab_type": "code",
        "colab": {}
      },
      "source": [
        "from google.colab import files\n",
        "styles = [\"shinkai\", \"hayao\", \"hosoda\", \"paprika\"]\n",
        "for styles in styles:\n",
        "  output_image_path = os.path.join(output_image_dir, styles, new_img_filename)\n",
        "  files.download(output_image_path)"
      ],
      "execution_count": 0,
      "outputs": []
    }
  ]
}