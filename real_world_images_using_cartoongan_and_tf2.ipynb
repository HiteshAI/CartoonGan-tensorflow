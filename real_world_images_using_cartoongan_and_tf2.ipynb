{
  "nbformat": 4,
  "nbformat_minor": 0,
  "metadata": {
    "colab": {
      "name": "20190416_cartoonize_real_world_images_using_cartoongan_and_tf2.ipynb",
      "provenance": [],
      "collapsed_sections": [],
      "toc_visible": true,
      "include_colab_link": true
    },
    "kernelspec": {
      "name": "python3",
      "display_name": "Python 3"
    },
    "accelerator": "GPU"
  },
  "cells": [
    {
      "cell_type": "markdown",
      "metadata": {
        "id": "view-in-github",
        "colab_type": "text"
      },
      "source": [
        "<a href=\"https://colab.research.google.com/github/HiteshAI/CartoonGan-tensorflow/blob/master/real_world_images_using_cartoongan_and_tf2.ipynb\" target=\"_parent\"><img src=\"https://colab.research.google.com/assets/colab-badge.svg\" alt=\"Open In Colab\"/></a>"
      ]
    },
    {
      "cell_type": "markdown",
      "metadata": {
        "id": "NvYp8Wrpoi9M",
        "colab_type": "text"
      },
      "source": [
        "# CartoonGAN-TensorFlow2\n",
        "Cartoonize your images using CartoonGAN, powered by TensorFlow 2.0. \n",
        "\n",
        "- [Blog post](https://leemeng.tw/generate-anime-using-cartoongan-and-tensorflow2-en.html)\n",
        "- [Blog post (Traditional Chinese)](https://leemeng.tw/generate-anime-using-cartoongan-and-tensorflow2.html)\n",
        "- [Github repo](https://github.com/mnicnc404/CartoonGan-tensorflow)"
      ]
    },
    {
      "cell_type": "markdown",
      "metadata": {
        "id": "5XyIr6bDKWSC",
        "colab_type": "text"
      },
      "source": [
        "<img src=\"https://github.com/mnicnc404/CartoonGan-tensorflow/blob/master/images/cover.gif?raw=true\" height=\"300px\">"
      ]
    },
    {
      "cell_type": "markdown",
      "metadata": {
        "id": "zop2YJ9K5MK1",
        "colab_type": "text"
      },
      "source": [
        "## Clone github  repo\n",
        "This repo contain the Python script that we will use to generate cartoon-style images."
      ]
    },
    {
      "cell_type": "code",
      "metadata": {
        "id": "KVK0kiqcUEh8",
        "colab_type": "code",
        "colab": {}
      },
      "source": [
        "import os\n",
        "repo = \"CartoonGan-tensorflow\"\n",
        "!git clone https://github.com/mnicnc404/{repo}.git\n",
        "os.chdir(os.path.join(repo))"
      ],
      "execution_count": 0,
      "outputs": []
    },
    {
      "cell_type": "code",
      "metadata": {
        "id": "-ge2a_gj5DcV",
        "colab_type": "code",
        "colab": {}
      },
      "source": [
        "!ls | grep cartoonize.py"
      ],
      "execution_count": 0,
      "outputs": []
    },
    {
      "cell_type": "markdown",
      "metadata": {
        "id": "vzyC4d477FJp",
        "colab_type": "text"
      },
      "source": [
        "## Install packages\n",
        "We will need TensorFlow 2.0 and [keras-contrib](https://github.com/keras-team/keras-contrib) packages."
      ]
    },
    {
      "cell_type": "code",
      "metadata": {
        "id": "AVV2vmOFcfIR",
        "colab_type": "code",
        "colab": {}
      },
      "source": [
        "from IPython.display import clear_output, display, Image"
      ],
      "execution_count": 0,
      "outputs": []
    },
    {
      "cell_type": "code",
      "metadata": {
        "id": "FmjWkxR0aoQX",
        "colab_type": "code",
        "colab": {}
      },
      "source": [
        "!pip install tensorflow-gpu==2.0.0-alpha0\n",
        "!git clone https://www.github.com/keras-team/keras-contrib.git \\\n",
        "    && cd keras-contrib \\\n",
        "    && python convert_to_tf_keras.py \\\n",
        "    && USE_TF_KERAS=1 python setup.py install\n",
        "clear_output()"
      ],
      "execution_count": 0,
      "outputs": []
    },
    {
      "cell_type": "code",
      "metadata": {
        "id": "vFi-unAm5E91",
        "colab_type": "code",
        "colab": {}
      },
      "source": [
        "import tensorflow as tf\n",
        "tf.__version__"
      ],
      "execution_count": 0,
      "outputs": []
    },
    {
      "cell_type": "markdown",
      "metadata": {
        "id": "tw8TnwJZuilg",
        "colab_type": "text"
      },
      "source": [
        "## Download new images to cartoonize\n",
        "Get url of the image that you wish to transform, and paste it in the form below. You can also keep the default url and see how it work. \n",
        "\n",
        "Supported format of the images:\n",
        "- `.jpg`\n",
        "- `.png`\n",
        "- `.gif`\n",
        "\n",
        "Url of sample images\n",
        "- Harry Potter: https://media.giphy.com/media/o5HKScC1PflLO/giphy.gif\n",
        "- Iron man: https://media.giphy.com/media/rlsHtd2YC8k0g/giphy.gif"
      ]
    },
    {
      "cell_type": "code",
      "metadata": {
        "id": "cq11iHl2unE8",
        "colab_type": "code",
        "colab": {}
      },
      "source": [
        "image_url = 'https://scontent.fktm6-1.fna.fbcdn.net/v/t1.0-0/c91.0.395.395a/p526x395/81965194_2864066943613966_7815622554843873280_o.jpg?_nc_cat=110&_nc_ohc=jFBEIMhv8LAAX-xUQeO&_nc_ht=scontent.fktm6-1.fna&_nc_tp=1&oh=fddb1039695a9175f3c213c43654e7d7&oe=5EA00441'  #@param {type: \"string\"}"
      ],
      "execution_count": 0,
      "outputs": []
    },
    {
      "cell_type": "markdown",
      "metadata": {
        "id": "FrZ2PPFMn4kc",
        "colab_type": "text"
      },
      "source": [
        "Download the image from the web and save it for transformation. You don't need to know all the detail here now."
      ]
    },
    {
      "cell_type": "code",
      "metadata": {
        "id": "QG22Lmj7fCkT",
        "colab_type": "code",
        "colab": {}
      },
      "source": [
        "input_image_dir = \"input_images\"\n",
        "output_image_dir = input_image_dir.replace(\"input_\", \"output_\")\n",
        "image_string_concat = 'mom.gif'\n",
        "\n",
        "import time\n",
        "if image_url:\n",
        "    # img_filename = image_url.split(\"/\")[-1]\n",
        "    img_filename = image_string_concat\n",
        "    name, ext = '.'.join(img_filename.split(\".\")[:-1]), img_filename.split(\".\")[-1]\n",
        "    new_name = '_'.join((name, str(int(time.time()))))\n",
        "    # new_img_filename = '.'.join((new_name, ext))\n",
        "    new_img_filename = image_string_concat\n",
        "    image_path = os.path.join(input_image_dir, new_img_filename)\n",
        "    \n",
        "    # # !wget {image_url} \\\n",
        "    #     && mv {img_filename} {new_img_filename} \\\n",
        "    #     && mv {new_img_filename} {image_path}\n",
        "\n",
        "\n",
        "# a trick to show gif in notebook\n",
        "if \".gif\" in new_img_filename:\n",
        "    png_path = new_img_filename + '.png'\n",
        "    !cp {image_path} {png_path}\n",
        "\n",
        "display(Image(png_path))"
      ],
      "execution_count": 0,
      "outputs": []
    },
    {
      "cell_type": "code",
      "metadata": {
        "id": "tMwfHOtMrMZ7",
        "colab_type": "code",
        "colab": {}
      },
      "source": [
        "styles = \"paprika\" #@param [\"shinkai\", \"hayao\", \"hosoda\", \"paprika\"]"
      ],
      "execution_count": 0,
      "outputs": []
    },
    {
      "cell_type": "code",
      "metadata": {
        "id": "gXZDnavco7WL",
        "colab_type": "code",
        "colab": {}
      },
      "source": [
        "!python cartoonize.py \\\n",
        "    --styles {styles} \\\n",
        "    --batch_size 4 \\\n",
        "    --all_styles \\\n",
        "    --comparison_view horizontal \\\n",
        "    --keep_original_size\n",
        "\n",
        "if img_filename:\n",
        "    if \".gif\" in img_filename:\n",
        "        generated_gif = os.path.join(output_image_dir, \"comparison\", new_img_filename)\n",
        "        result_path = generated_gif + '.png'\n",
        "        !cp {generated_gif} {result_path}\n",
        "    else:\n",
        "        result_path = os.path.join(output_image_dir, \"comparison\", new_img_filename)\n",
        "display(Image(result_path))\n",
        "\n"
      ],
      "execution_count": 0,
      "outputs": []
    },
    {
      "cell_type": "markdown",
      "metadata": {
        "id": "xUXJJL1Dgntw",
        "colab_type": "text"
      },
      "source": [
        "## Compare input with the caroonized result"
      ]
    },
    {
      "cell_type": "markdown",
      "metadata": {
        "id": "SdyQoncIpod_",
        "colab_type": "text"
      },
      "source": [
        "## Download the result\n"
      ]
    },
    {
      "cell_type": "markdown",
      "metadata": {
        "id": "KwiH8Zbxqrun",
        "colab_type": "text"
      },
      "source": [
        "To download only the tranformed image , set `include_original_image` to `no`."
      ]
    },
    {
      "cell_type": "code",
      "metadata": {
        "id": "Bp8tegxJqegf",
        "colab_type": "code",
        "colab": {}
      },
      "source": [
        "include_original_image = \"no\"  #@param {type: \"string\"}"
      ],
      "execution_count": 0,
      "outputs": []
    },
    {
      "cell_type": "code",
      "metadata": {
        "id": "I3FBeu82pqNR",
        "colab_type": "code",
        "colab": {}
      },
      "source": [
        "from google.colab import files\n",
        "if include_original_image == \"yes\":\n",
        "    output_image_path = os.path.join(output_image_dir, \"comparison\", new_img_filename)\n",
        "else:\n",
        "    output_image_path = os.path.join(output_image_dir, styles, new_img_filename)\n",
        "files.download(output_image_path)"
      ],
      "execution_count": 0,
      "outputs": []
    },
    {
      "cell_type": "markdown",
      "metadata": {
        "id": "9bCWJ04we9Wu",
        "colab_type": "text"
      },
      "source": [
        "## Check all transformed_images"
      ]
    },
    {
      "cell_type": "code",
      "metadata": {
        "id": "wksYrXhNe1td",
        "colab_type": "code",
        "colab": {}
      },
      "source": [
        "!apt-get install tree\n",
        "clear_output()"
      ],
      "execution_count": 0,
      "outputs": []
    },
    {
      "cell_type": "code",
      "metadata": {
        "id": "9Ag1yzD4eukk",
        "colab_type": "code",
        "colab": {}
      },
      "source": [
        "!tree {output_image_dir}"
      ],
      "execution_count": 0,
      "outputs": []
    },
    {
      "cell_type": "markdown",
      "metadata": {
        "id": "PCUi-ZcKscs-",
        "colab_type": "text"
      },
      "source": [
        "## What you can do now\n",
        "- try cartoonizing more new images\n",
        "- view our [blog post](https://leemeng.tw/generate-anime-using-cartoongan-and-tensorflow2-en.html) to know more details\n",
        "- share what you created with me and I can't wait to check them all!\n",
        "    - [Twitter](https://twitter.com/leemengtw)\n",
        "    - [Facebook](https://www.facebook.com/LeeMengTaiwan) "
      ]
    }
  ]
}