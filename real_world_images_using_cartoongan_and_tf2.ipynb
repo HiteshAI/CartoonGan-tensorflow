{
  "nbformat": 4,
  "nbformat_minor": 0,
  "metadata": {
    "colab": {
      "name": "20190416_cartoonize_real_world_images_using_cartoongan_and_tf2.ipynb",
      "provenance": [],
      "collapsed_sections": [],
      "toc_visible": true,
      "include_colab_link": true
    },
    "kernelspec": {
      "name": "python3",
      "display_name": "Python 3"
    },
    "accelerator": "GPU"
  },
  "cells": [
    {
      "cell_type": "markdown",
      "metadata": {
        "id": "view-in-github",
        "colab_type": "text"
      },
      "source": [
        "<a href=\"https://colab.research.google.com/github/HiteshAI/CartoonGan-tensorflow/blob/master/real_world_images_using_cartoongan_and_tf2.ipynb\" target=\"_parent\"><img src=\"https://colab.research.google.com/assets/colab-badge.svg\" alt=\"Open In Colab\"/></a>"
      ]
    },
    {
      "cell_type": "markdown",
      "metadata": {
        "id": "NvYp8Wrpoi9M",
        "colab_type": "text"
      },
      "source": [
        "# CartoonGAN-TensorFlow2\n",
        "Cartoonize your images using CartoonGAN, powered by TensorFlow 2.0. \n",
        "\n",
        "- [Blog post](https://leemeng.tw/generate-anime-using-cartoongan-and-tensorflow2-en.html)\n",
        "- [Blog post (Traditional Chinese)](https://leemeng.tw/generate-anime-using-cartoongan-and-tensorflow2.html)\n",
        "- [Github repo](https://github.com/mnicnc404/CartoonGan-tensorflow)"
      ]
    },
    {
      "cell_type": "markdown",
      "metadata": {
        "id": "5XyIr6bDKWSC",
        "colab_type": "text"
      },
      "source": [
        "<img src=\"https://github.com/mnicnc404/CartoonGan-tensorflow/blob/master/images/cover.gif?raw=true\" height=\"300px\">"
      ]
    },
    {
      "cell_type": "markdown",
      "metadata": {
        "id": "zop2YJ9K5MK1",
        "colab_type": "text"
      },
      "source": [
        "## Clone github  repo\n",
        "This repo contain the Python script that we will use to generate cartoon-style images."
      ]
    },
    {
      "cell_type": "code",
      "metadata": {
        "id": "KVK0kiqcUEh8",
        "colab_type": "code",
        "colab": {}
      },
      "source": [
        "import os\n",
        "repo = \"CartoonGan-tensorflow\"\n",
        "!git clone https://github.com/HiteshAI/CartoonGan-tensorflow.git\n",
        "os.chdir(os.path.join(repo))"
      ],
      "execution_count": 0,
      "outputs": []
    },
    {
      "cell_type": "code",
      "metadata": {
        "id": "-ge2a_gj5DcV",
        "colab_type": "code",
        "colab": {}
      },
      "source": [
        "!ls | grep cartoonize.py"
      ],
      "execution_count": 0,
      "outputs": []
    },
    {
      "cell_type": "markdown",
      "metadata": {
        "id": "vzyC4d477FJp",
        "colab_type": "text"
      },
      "source": [
        "## Install packages\n",
        "We will need TensorFlow 2.0 and [keras-contrib](https://github.com/keras-team/keras-contrib) packages."
      ]
    },
    {
      "cell_type": "code",
      "metadata": {
        "id": "AVV2vmOFcfIR",
        "colab_type": "code",
        "colab": {}
      },
      "source": [
        "from IPython.display import clear_output, display, Image"
      ],
      "execution_count": 0,
      "outputs": []
    },
    {
      "cell_type": "code",
      "metadata": {
        "id": "FmjWkxR0aoQX",
        "colab_type": "code",
        "colab": {}
      },
      "source": [
        "!pip install tensorflow-gpu==2.0.0-alpha0\n",
        "!git clone https://www.github.com/keras-team/keras-contrib.git \\\n",
        "    && cd keras-contrib \\\n",
        "    && python convert_to_tf_keras.py \\\n",
        "    && USE_TF_KERAS=1 python setup.py install\n",
        "clear_output()"
      ],
      "execution_count": 0,
      "outputs": []
    },
    {
      "cell_type": "code",
      "metadata": {
        "id": "vFi-unAm5E91",
        "colab_type": "code",
        "colab": {}
      },
      "source": [
        "import tensorflow as tf\n",
        "tf.__version__"
      ],
      "execution_count": 0,
      "outputs": []
    },
    {
      "cell_type": "markdown",
      "metadata": {
        "id": "FrZ2PPFMn4kc",
        "colab_type": "text"
      },
      "source": [
        "Download the image from the web and save it for transformation. You don't need to know all the detail here now."
      ]
    },
    {
      "cell_type": "code",
      "metadata": {
        "id": "QG22Lmj7fCkT",
        "colab_type": "code",
        "colab": {}
      },
      "source": [
        "input_image_dir = \"input_images\"\n",
        "output_image_dir = input_image_dir.replace(\"input_\", \"output_\")\n",
        "image_string_concat = 'pranaya.jpg'\n",
        "\n",
        "import time\n",
        "img_filename = image_string_concat\n",
        "name, ext = '.'.join(img_filename.split(\".\")[:-1]), img_filename.split(\".\")[-1]\n",
        "new_name = '_'.join((name, str(int(time.time()))))\n",
        "new_img_filename = image_string_concat\n",
        "image_path = os.path.join(input_image_dir, new_img_filename)\n",
        "    \n",
        "# if \".gif\" in new_img_filename:\n",
        "png_path = new_img_filename \n",
        "!cp {image_path} {png_path}\n",
        "\n",
        "display(Image(png_path))"
      ],
      "execution_count": 0,
      "outputs": []
    },
    {
      "cell_type": "code",
      "metadata": {
        "id": "tMwfHOtMrMZ7",
        "colab_type": "code",
        "colab": {}
      },
      "source": [
        ""
      ],
      "execution_count": 0,
      "outputs": []
    },
    {
      "cell_type": "code",
      "metadata": {
        "id": "gXZDnavco7WL",
        "colab_type": "code",
        "colab": {}
      },
      "source": [
        "\n",
        "!python cartoonize.py \\\n",
        "    --batch_size 10 \\\n",
        "    --all_styles \\\n",
        "    --comparison_view horizontal \\\n",
        "    --keep_original_size\n",
        "\n",
        "if img_filename:\n",
        "    if \".gif\" in img_filename:\n",
        "        generated_gif = os.path.join(output_image_dir, \"comparison\", new_img_filename)\n",
        "        result_path = generated_gif + '.png'\n",
        "        !cp {generated_gif} {result_path}\n",
        "    else:\n",
        "        result_path = os.path.join(output_image_dir, \"comparison\", new_img_filename)\n",
        "display(Image(result_path))\n",
        "\n"
      ],
      "execution_count": 0,
      "outputs": []
    },
    {
      "cell_type": "markdown",
      "metadata": {
        "id": "SdyQoncIpod_",
        "colab_type": "text"
      },
      "source": [
        "## Download the result\n"
      ]
    },
    {
      "cell_type": "code",
      "metadata": {
        "id": "I3FBeu82pqNR",
        "colab_type": "code",
        "colab": {}
      },
      "source": [
        "from google.colab import files\n",
        "styles = [\"shinkai\", \"hayao\", \"hosoda\", \"paprika\"]\n",
        "for styles in styles:\n",
        "  output_image_path = os.path.join(output_image_dir, styles, new_img_filename)\n",
        "  files.download(output_image_path)"
      ],
      "execution_count": 0,
      "outputs": []
    }
  ]
}