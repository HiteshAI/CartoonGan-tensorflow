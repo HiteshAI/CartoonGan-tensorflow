{
  "nbformat": 4,
  "nbformat_minor": 0,
  "metadata": {
    "colab": {
      "name": "20190416_cartoonize_real_world_images_using_cartoongan_and_tf2.ipynb",
      "provenance": [],
      "collapsed_sections": [],
      "toc_visible": true,
      "include_colab_link": true
    },
    "kernelspec": {
      "name": "python3",
      "display_name": "Python 3"
    },
    "accelerator": "GPU"
  },
  "cells": [
    {
      "cell_type": "markdown",
      "metadata": {
        "id": "view-in-github",
        "colab_type": "text"
      },
      "source": [
        "<a href=\"https://colab.research.google.com/github/HiteshAI/CartoonGan-tensorflow/blob/master/catoonization_of_real_world_images_using_cartoongan.ipynb\" target=\"_parent\"><img src=\"https://colab.research.google.com/assets/colab-badge.svg\" alt=\"Open In Colab\"/></a>"
      ]
    },
    {
      "cell_type": "markdown",
      "metadata": {
        "id": "NvYp8Wrpoi9M",
        "colab_type": "text"
      },
      "source": [
        "# CartoonGAN-TensorFlow2\n",
        "Cartoonize your images using CartoonGAN, powered by TensorFlow 2.0. \n",
        "\n",
        "- [Blog post](https://leemeng.tw/generate-anime-using-cartoongan-and-tensorflow2-en.html)\n",
        "- [Blog post (Traditional Chinese)](https://leemeng.tw/generate-anime-using-cartoongan-and-tensorflow2.html)\n",
        "- [Github repo](https://github.com/mnicnc404/CartoonGan-tensorflow)"
      ]
    },
    {
      "cell_type": "markdown",
      "metadata": {
        "id": "zop2YJ9K5MK1",
        "colab_type": "text"
      },
      "source": [
        "## Clone github  repo\n",
        "This repo contain the Python script that we will use to generate cartoon-style images."
      ]
    },
    {
      "cell_type": "code",
      "metadata": {
        "id": "KVK0kiqcUEh8",
        "colab_type": "code",
        "outputId": "a7116f58-798d-407f-ec7a-4dcedf707f51",
        "colab": {
          "base_uri": "https://localhost:8080/",
          "height": 156
        }
      },
      "source": [
        "import os\n",
        "repo = \"CartoonGan-tensorflow\"\n",
        "!git clone https://github.com/HiteshAI/CartoonGan-tensorflow.git\n",
        "os.chdir(os.path.join(repo))"
      ],
      "execution_count": 1,
      "outputs": [
        {
          "output_type": "stream",
          "text": [
            "Cloning into 'CartoonGan-tensorflow'...\n",
            "remote: Enumerating objects: 29, done.\u001b[K\n",
            "remote: Counting objects:   3% (1/29)\u001b[K\rremote: Counting objects:   6% (2/29)\u001b[K\rremote: Counting objects:  10% (3/29)\u001b[K\rremote: Counting objects:  13% (4/29)\u001b[K\rremote: Counting objects:  17% (5/29)\u001b[K\rremote: Counting objects:  20% (6/29)\u001b[K\rremote: Counting objects:  24% (7/29)\u001b[K\rremote: Counting objects:  27% (8/29)\u001b[K\rremote: Counting objects:  31% (9/29)\u001b[K\rremote: Counting objects:  34% (10/29)\u001b[K\rremote: Counting objects:  37% (11/29)\u001b[K\rremote: Counting objects:  41% (12/29)\u001b[K\rremote: Counting objects:  44% (13/29)\u001b[K\rremote: Counting objects:  48% (14/29)\u001b[K\rremote: Counting objects:  51% (15/29)\u001b[K\rremote: Counting objects:  55% (16/29)\u001b[K\rremote: Counting objects:  58% (17/29)\u001b[K\rremote: Counting objects:  62% (18/29)\u001b[K\rremote: Counting objects:  65% (19/29)\u001b[K\rremote: Counting objects:  68% (20/29)\u001b[K\rremote: Counting objects:  72% (21/29)\u001b[K\rremote: Counting objects:  75% (22/29)\u001b[K\rremote: Counting objects:  79% (23/29)\u001b[K\rremote: Counting objects:  82% (24/29)\u001b[K\rremote: Counting objects:  86% (25/29)\u001b[K\rremote: Counting objects:  89% (26/29)\u001b[K\rremote: Counting objects:  93% (27/29)\u001b[K\rremote: Counting objects:  96% (28/29)\u001b[K\rremote: Counting objects: 100% (29/29)\u001b[K\rremote: Counting objects: 100% (29/29), done.\u001b[K\n",
            "remote: Compressing objects: 100% (28/28), done.\u001b[K\n",
            "remote: Total 1621 (delta 13), reused 0 (delta 0), pack-reused 1592\u001b[K\n",
            "Receiving objects: 100% (1621/1621), 347.15 MiB | 33.33 MiB/s, done.\n",
            "Resolving deltas: 100% (705/705), done.\n",
            "Checking out files: 100% (429/429), done.\n"
          ],
          "name": "stdout"
        }
      ]
    },
    {
      "cell_type": "markdown",
      "metadata": {
        "id": "vzyC4d477FJp",
        "colab_type": "text"
      },
      "source": [
        "## Install packages\n",
        "We will need TensorFlow 2.0 and [keras-contrib](https://github.com/keras-team/keras-contrib) packages."
      ]
    },
    {
      "cell_type": "code",
      "metadata": {
        "id": "AVV2vmOFcfIR",
        "colab_type": "code",
        "colab": {}
      },
      "source": [
        "from IPython.display import clear_output, display, Image"
      ],
      "execution_count": 0,
      "outputs": []
    },
    {
      "cell_type": "code",
      "metadata": {
        "id": "FmjWkxR0aoQX",
        "colab_type": "code",
        "colab": {}
      },
      "source": [
        "!pip install tensorflow-gpu==2.0.0-alpha0\n",
        "!git clone https://www.github.com/keras-team/keras-contrib.git \\\n",
        "    && cd keras-contrib \\\n",
        "    && python convert_to_tf_keras.py \\\n",
        "    && USE_TF_KERAS=1 python setup.py install\n",
        "import tensorflow as tf\n",
        "tf.__version__\n",
        "\n",
        "clear_output()"
      ],
      "execution_count": 0,
      "outputs": []
    },
    {
      "cell_type": "markdown",
      "metadata": {
        "id": "FrZ2PPFMn4kc",
        "colab_type": "text"
      },
      "source": [
        "# **Download the image from the web and save it for transformation. You don't need to know all the detail here now.**"
      ]
    },
    {
      "cell_type": "code",
      "metadata": {
        "id": "tMwfHOtMrMZ7",
        "colab_type": "code",
        "colab": {
          "base_uri": "https://localhost:8080/",
          "height": 1000
        },
        "outputId": "a521dd0c-f24c-4ee7-f337-b276b8ba6949"
      },
      "source": [
        "!python cartoonize.py -h"
      ],
      "execution_count": 4,
      "outputs": [
        {
          "output_type": "stream",
          "text": [
            "/usr/local/lib/python3.6/dist-packages/tensorflow/python/framework/dtypes.py:523: FutureWarning: Passing (type, 1) or '1type' as a synonym of type is deprecated; in a future version of numpy, it will be understood as (type, (1,)) / '(1,)type'.\n",
            "  _np_qint8 = np.dtype([(\"qint8\", np.int8, 1)])\n",
            "/usr/local/lib/python3.6/dist-packages/tensorflow/python/framework/dtypes.py:524: FutureWarning: Passing (type, 1) or '1type' as a synonym of type is deprecated; in a future version of numpy, it will be understood as (type, (1,)) / '(1,)type'.\n",
            "  _np_quint8 = np.dtype([(\"quint8\", np.uint8, 1)])\n",
            "/usr/local/lib/python3.6/dist-packages/tensorflow/python/framework/dtypes.py:525: FutureWarning: Passing (type, 1) or '1type' as a synonym of type is deprecated; in a future version of numpy, it will be understood as (type, (1,)) / '(1,)type'.\n",
            "  _np_qint16 = np.dtype([(\"qint16\", np.int16, 1)])\n",
            "/usr/local/lib/python3.6/dist-packages/tensorflow/python/framework/dtypes.py:526: FutureWarning: Passing (type, 1) or '1type' as a synonym of type is deprecated; in a future version of numpy, it will be understood as (type, (1,)) / '(1,)type'.\n",
            "  _np_quint16 = np.dtype([(\"quint16\", np.uint16, 1)])\n",
            "/usr/local/lib/python3.6/dist-packages/tensorflow/python/framework/dtypes.py:527: FutureWarning: Passing (type, 1) or '1type' as a synonym of type is deprecated; in a future version of numpy, it will be understood as (type, (1,)) / '(1,)type'.\n",
            "  _np_qint32 = np.dtype([(\"qint32\", np.int32, 1)])\n",
            "/usr/local/lib/python3.6/dist-packages/tensorflow/python/framework/dtypes.py:532: FutureWarning: Passing (type, 1) or '1type' as a synonym of type is deprecated; in a future version of numpy, it will be understood as (type, (1,)) / '(1,)type'.\n",
            "  np_resource = np.dtype([(\"resource\", np.ubyte, 1)])\n",
            "/usr/local/lib/python3.6/dist-packages/tensorboard/compat/tensorflow_stub/dtypes.py:541: FutureWarning: Passing (type, 1) or '1type' as a synonym of type is deprecated; in a future version of numpy, it will be understood as (type, (1,)) / '(1,)type'.\n",
            "  _np_qint8 = np.dtype([(\"qint8\", np.int8, 1)])\n",
            "/usr/local/lib/python3.6/dist-packages/tensorboard/compat/tensorflow_stub/dtypes.py:542: FutureWarning: Passing (type, 1) or '1type' as a synonym of type is deprecated; in a future version of numpy, it will be understood as (type, (1,)) / '(1,)type'.\n",
            "  _np_quint8 = np.dtype([(\"quint8\", np.uint8, 1)])\n",
            "/usr/local/lib/python3.6/dist-packages/tensorboard/compat/tensorflow_stub/dtypes.py:543: FutureWarning: Passing (type, 1) or '1type' as a synonym of type is deprecated; in a future version of numpy, it will be understood as (type, (1,)) / '(1,)type'.\n",
            "  _np_qint16 = np.dtype([(\"qint16\", np.int16, 1)])\n",
            "/usr/local/lib/python3.6/dist-packages/tensorboard/compat/tensorflow_stub/dtypes.py:544: FutureWarning: Passing (type, 1) or '1type' as a synonym of type is deprecated; in a future version of numpy, it will be understood as (type, (1,)) / '(1,)type'.\n",
            "  _np_quint16 = np.dtype([(\"quint16\", np.uint16, 1)])\n",
            "/usr/local/lib/python3.6/dist-packages/tensorboard/compat/tensorflow_stub/dtypes.py:545: FutureWarning: Passing (type, 1) or '1type' as a synonym of type is deprecated; in a future version of numpy, it will be understood as (type, (1,)) / '(1,)type'.\n",
            "  _np_qint32 = np.dtype([(\"qint32\", np.int32, 1)])\n",
            "/usr/local/lib/python3.6/dist-packages/tensorboard/compat/tensorflow_stub/dtypes.py:550: FutureWarning: Passing (type, 1) or '1type' as a synonym of type is deprecated; in a future version of numpy, it will be understood as (type, (1,)) / '(1,)type'.\n",
            "  np_resource = np.dtype([(\"resource\", np.ubyte, 1)])\n",
            "usage: cartoonize.py [-h] [--styles STYLES [STYLES ...]] [--all_styles]\n",
            "                     [--input_dir INPUT_DIR] [--output_dir OUTPUT_DIR]\n",
            "                     [--batch_size BATCH_SIZE] [--ignore_gif] [--overwrite]\n",
            "                     [--skip_comparison]\n",
            "                     [--comparison_view {smart,horizontal,vertical,grid}]\n",
            "                     [--gif_frame_frequency GIF_FRAME_FREQUENCY]\n",
            "                     [--max_num_frames MAX_NUM_FRAMES] [--keep_original_size]\n",
            "                     [--max_resized_height MAX_RESIZED_HEIGHT]\n",
            "                     [--convert_gif_to_mp4]\n",
            "                     [--logging_lvl {debug,info,warning,error,critical}]\n",
            "                     [--debug] [--show_tf_cpp_log]\n",
            "\n",
            "transform real world images to specified cartoon style(s)\n",
            "\n",
            "optional arguments:\n",
            "  -h, --help            show this help message and exit\n",
            "  --styles STYLES [STYLES ...]\n",
            "                        specify (multiple) cartoon styles which will be used\n",
            "                        to transform input images.\n",
            "  --all_styles          set true if all styled results are desired\n",
            "  --input_dir INPUT_DIR\n",
            "                        directory with images to be transformed\n",
            "  --output_dir OUTPUT_DIR\n",
            "                        directory where transformed images are saved\n",
            "  --batch_size BATCH_SIZE\n",
            "                        number of images that will be transformed in parallel\n",
            "                        to speed up processing. higher value like 4 is\n",
            "                        recommended if there are gpus.\n",
            "  --ignore_gif          transforming gif images can take long time. enable\n",
            "                        this when you want to ignore gifs\n",
            "  --overwrite           enable this if you want to regenerate outputs\n",
            "                        regardless of existing results\n",
            "  --skip_comparison     enable this if you only want individual style result\n",
            "                        and to save processing time\n",
            "  --comparison_view {smart,horizontal,vertical,grid}\n",
            "                        specify how input images and transformed images are\n",
            "                        concatenated for easier comparison\n",
            "  --gif_frame_frequency GIF_FRAME_FREQUENCY\n",
            "                        how often should a frame in gif be transformed. freq=1\n",
            "                        means that every frame in the gif will be transformed\n",
            "                        by default. set higher frequency can save processing\n",
            "                        time while make the transformed gif less smooth\n",
            "  --max_num_frames MAX_NUM_FRAMES\n",
            "                        max number of frames that will be extracted from a\n",
            "                        gif. set higher value if longer gif is needed\n",
            "  --keep_original_size  by default the input images will be resized to\n",
            "                        reasonable size to prevent potential large computation\n",
            "                        and to save file sizes. Enable this if you want the\n",
            "                        original image size.\n",
            "  --max_resized_height MAX_RESIZED_HEIGHT\n",
            "                        specify the max height of a image after resizing. the\n",
            "                        resized image will have the sameaspect ratio. Set\n",
            "                        higher value or enable `keep_original_size` if you\n",
            "                        want larger image.\n",
            "  --convert_gif_to_mp4  convert transformed gif to mp4 which is much more\n",
            "                        smaller and easier to share. `ffmpeg` need to be\n",
            "                        installed at first.\n",
            "  --logging_lvl {debug,info,warning,error,critical}\n",
            "                        logging level which decide how verbosely the program\n",
            "                        will be. set to `debug` if necessary\n",
            "  --debug               show the most detailed logging messages for debugging\n",
            "                        purpose\n",
            "  --show_tf_cpp_log\n"
          ],
          "name": "stdout"
        }
      ]
    },
    {
      "cell_type": "code",
      "metadata": {
        "id": "gXZDnavco7WL",
        "colab_type": "code",
        "colab": {
          "base_uri": "https://localhost:8080/",
          "height": 761
        },
        "outputId": "377f34e3-0e56-46c6-d88d-c74cae27e283"
      },
      "source": [
        "\n",
        "!python cartoonize.py \\\n",
        "    --batch_size 4 \\\n",
        "    --all_styles \\\n",
        "    --comparison_view horizontal \\\n",
        "    --max_resized_height 800\n",
        "\n",
        "if img_filename:\n",
        "    if \".gif\" in img_filename:\n",
        "        generated_gif = os.path.join(output_image_dir, \"comparison\", new_img_filename)\n",
        "        result_path = generated_gif + '.png'\n",
        "        !cp {generated_gif} {result_path}\n",
        "    else:\n",
        "        result_path = os.path.join(output_image_dir, \"comparison\", new_img_filename)\n",
        "display(Image(result_path))\n",
        "\n"
      ],
      "execution_count": 5,
      "outputs": [
        {
          "output_type": "stream",
          "text": [
            "/usr/local/lib/python3.6/dist-packages/tensorflow/python/framework/dtypes.py:523: FutureWarning: Passing (type, 1) or '1type' as a synonym of type is deprecated; in a future version of numpy, it will be understood as (type, (1,)) / '(1,)type'.\n",
            "  _np_qint8 = np.dtype([(\"qint8\", np.int8, 1)])\n",
            "/usr/local/lib/python3.6/dist-packages/tensorflow/python/framework/dtypes.py:524: FutureWarning: Passing (type, 1) or '1type' as a synonym of type is deprecated; in a future version of numpy, it will be understood as (type, (1,)) / '(1,)type'.\n",
            "  _np_quint8 = np.dtype([(\"quint8\", np.uint8, 1)])\n",
            "/usr/local/lib/python3.6/dist-packages/tensorflow/python/framework/dtypes.py:525: FutureWarning: Passing (type, 1) or '1type' as a synonym of type is deprecated; in a future version of numpy, it will be understood as (type, (1,)) / '(1,)type'.\n",
            "  _np_qint16 = np.dtype([(\"qint16\", np.int16, 1)])\n",
            "/usr/local/lib/python3.6/dist-packages/tensorflow/python/framework/dtypes.py:526: FutureWarning: Passing (type, 1) or '1type' as a synonym of type is deprecated; in a future version of numpy, it will be understood as (type, (1,)) / '(1,)type'.\n",
            "  _np_quint16 = np.dtype([(\"quint16\", np.uint16, 1)])\n",
            "/usr/local/lib/python3.6/dist-packages/tensorflow/python/framework/dtypes.py:527: FutureWarning: Passing (type, 1) or '1type' as a synonym of type is deprecated; in a future version of numpy, it will be understood as (type, (1,)) / '(1,)type'.\n",
            "  _np_qint32 = np.dtype([(\"qint32\", np.int32, 1)])\n",
            "/usr/local/lib/python3.6/dist-packages/tensorflow/python/framework/dtypes.py:532: FutureWarning: Passing (type, 1) or '1type' as a synonym of type is deprecated; in a future version of numpy, it will be understood as (type, (1,)) / '(1,)type'.\n",
            "  np_resource = np.dtype([(\"resource\", np.ubyte, 1)])\n",
            "/usr/local/lib/python3.6/dist-packages/tensorboard/compat/tensorflow_stub/dtypes.py:541: FutureWarning: Passing (type, 1) or '1type' as a synonym of type is deprecated; in a future version of numpy, it will be understood as (type, (1,)) / '(1,)type'.\n",
            "  _np_qint8 = np.dtype([(\"qint8\", np.int8, 1)])\n",
            "/usr/local/lib/python3.6/dist-packages/tensorboard/compat/tensorflow_stub/dtypes.py:542: FutureWarning: Passing (type, 1) or '1type' as a synonym of type is deprecated; in a future version of numpy, it will be understood as (type, (1,)) / '(1,)type'.\n",
            "  _np_quint8 = np.dtype([(\"quint8\", np.uint8, 1)])\n",
            "/usr/local/lib/python3.6/dist-packages/tensorboard/compat/tensorflow_stub/dtypes.py:543: FutureWarning: Passing (type, 1) or '1type' as a synonym of type is deprecated; in a future version of numpy, it will be understood as (type, (1,)) / '(1,)type'.\n",
            "  _np_qint16 = np.dtype([(\"qint16\", np.int16, 1)])\n",
            "/usr/local/lib/python3.6/dist-packages/tensorboard/compat/tensorflow_stub/dtypes.py:544: FutureWarning: Passing (type, 1) or '1type' as a synonym of type is deprecated; in a future version of numpy, it will be understood as (type, (1,)) / '(1,)type'.\n",
            "  _np_quint16 = np.dtype([(\"quint16\", np.uint16, 1)])\n",
            "/usr/local/lib/python3.6/dist-packages/tensorboard/compat/tensorflow_stub/dtypes.py:545: FutureWarning: Passing (type, 1) or '1type' as a synonym of type is deprecated; in a future version of numpy, it will be understood as (type, (1,)) / '(1,)type'.\n",
            "  _np_qint32 = np.dtype([(\"qint32\", np.int32, 1)])\n",
            "/usr/local/lib/python3.6/dist-packages/tensorboard/compat/tensorflow_stub/dtypes.py:550: FutureWarning: Passing (type, 1) or '1type' as a synonym of type is deprecated; in a future version of numpy, it will be understood as (type, (1,)) / '(1,)type'.\n",
            "  np_resource = np.dtype([(\"resource\", np.ubyte, 1)])\n",
            "[2020-01-17 03:51:31] [Cartoonizer] [INFO] Transformed images will be saved to `output_images` folder.\n",
            "[2020-01-17 03:51:36] [Cartoonizer] [INFO] Cartoonizing images using shinkai, hayao, hosoda, paprika style...\n",
            "[2020-01-17 03:51:36] [Cartoonizer] [INFO] Preparing to transform 28 images from `input_images` directory...\n",
            "Transforming: 100% 28/28 [01:40<00:00,  2.90s/it, File=46.7-05092017080806.JPG]\n",
            "[2020-01-17 03:53:17] [Cartoonizer] [INFO] Total processing time: 0:01:45.248623\n"
          ],
          "name": "stdout"
        },
        {
          "output_type": "error",
          "ename": "NameError",
          "evalue": "ignored",
          "traceback": [
            "\u001b[0;31m---------------------------------------------------------------------------\u001b[0m",
            "\u001b[0;31mNameError\u001b[0m                                 Traceback (most recent call last)",
            "\u001b[0;32m<ipython-input-5-ee9a6f13e57b>\u001b[0m in \u001b[0;36m<module>\u001b[0;34m()\u001b[0m\n\u001b[1;32m      2\u001b[0m \u001b[0mget_ipython\u001b[0m\u001b[0;34m(\u001b[0m\u001b[0;34m)\u001b[0m\u001b[0;34m.\u001b[0m\u001b[0msystem\u001b[0m\u001b[0;34m(\u001b[0m\u001b[0;34m'python cartoonize.py     --batch_size 4     --all_styles     --comparison_view horizontal     --max_resized_height 800'\u001b[0m\u001b[0;34m)\u001b[0m\u001b[0;34m\u001b[0m\u001b[0;34m\u001b[0m\u001b[0m\n\u001b[1;32m      3\u001b[0m \u001b[0;34m\u001b[0m\u001b[0m\n\u001b[0;32m----> 4\u001b[0;31m \u001b[0;32mif\u001b[0m \u001b[0mimg_filename\u001b[0m\u001b[0;34m:\u001b[0m\u001b[0;34m\u001b[0m\u001b[0;34m\u001b[0m\u001b[0m\n\u001b[0m\u001b[1;32m      5\u001b[0m     \u001b[0;32mif\u001b[0m \u001b[0;34m\".gif\"\u001b[0m \u001b[0;32min\u001b[0m \u001b[0mimg_filename\u001b[0m\u001b[0;34m:\u001b[0m\u001b[0;34m\u001b[0m\u001b[0;34m\u001b[0m\u001b[0m\n\u001b[1;32m      6\u001b[0m         \u001b[0mgenerated_gif\u001b[0m \u001b[0;34m=\u001b[0m \u001b[0mos\u001b[0m\u001b[0;34m.\u001b[0m\u001b[0mpath\u001b[0m\u001b[0;34m.\u001b[0m\u001b[0mjoin\u001b[0m\u001b[0;34m(\u001b[0m\u001b[0moutput_image_dir\u001b[0m\u001b[0;34m,\u001b[0m \u001b[0;34m\"comparison\"\u001b[0m\u001b[0;34m,\u001b[0m \u001b[0mnew_img_filename\u001b[0m\u001b[0;34m)\u001b[0m\u001b[0;34m\u001b[0m\u001b[0;34m\u001b[0m\u001b[0m\n",
            "\u001b[0;31mNameError\u001b[0m: name 'img_filename' is not defined"
          ]
        }
      ]
    },
    {
      "cell_type": "markdown",
      "metadata": {
        "id": "SdyQoncIpod_",
        "colab_type": "text"
      },
      "source": [
        "## Download the result\n"
      ]
    },
    {
      "cell_type": "code",
      "metadata": {
        "id": "mmSYecDPoVqL",
        "colab_type": "code",
        "colab": {}
      },
      "source": [
        ""
      ],
      "execution_count": 0,
      "outputs": []
    },
    {
      "cell_type": "code",
      "metadata": {
        "id": "I3FBeu82pqNR",
        "colab_type": "code",
        "colab": {}
      },
      "source": [
        "# from google.colab import files\n",
        "# styles = [\"shinkai\", \"hayao\", \"hosoda\", \"paprika\"]\n",
        "# for styles in styles:\n",
        "#   output_image_path = os.path.join(output_image_dir, styles, new_img_filename)\n",
        "#   files.download(output_image_path)"
      ],
      "execution_count": 0,
      "outputs": []
    }
  ]
}